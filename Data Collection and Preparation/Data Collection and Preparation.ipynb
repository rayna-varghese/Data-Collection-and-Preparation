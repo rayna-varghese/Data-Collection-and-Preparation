{
 "cells": [
  {
   "cell_type": "markdown",
   "metadata": {},
   "source": [
    "# COMP47670 - Assignment 1: DATA COLLECTION & PREPARATION\n",
    "\n",
    "## RAYNA VARGHESE\n",
    "\n",
    "## S19200265"
   ]
  },
  {
   "cell_type": "markdown",
   "metadata": {},
   "source": [
    "### Task 1: Identify one or more suitable web APIs"
   ]
  },
  {
   "cell_type": "markdown",
   "metadata": {},
   "source": [
    "#### <font color=orange>__*API Selection:*__</font>\n",
    "\n",
    "API for this assignment was chosen from [Alpha Vantage](https://www.alphavantage.co/), which is a website for realtime and historic financial stock data. The API is freely available.\n",
    "<br> For this assignment, [Monthly Time Series](https://www.alphavantage.co/documentation/#monthly) and [Relative Strength Index (RSI)](https://www.alphavantage.co/documentation/#rsi) were selected for analysis of the *'stocks of Microsoft.'*\n",
    "<br> The API key that I recieved is as follows. There are few packages that need to be installed for which I have put commands."
   ]
  },
  {
   "cell_type": "code",
   "execution_count": 96,
   "metadata": {},
   "outputs": [],
   "source": [
    "import requests\n",
    "import pandas as pd\n",
    "import datetime\n",
    "import csv\n",
    "import numpy as np\n",
    "# alpha vantage inbuilt packages and functions\n",
    "%pip install alphavantage \n",
    "from alpha_vantage.techindicators import TechIndicators"
   ]
  },
  {
   "cell_type": "code",
   "execution_count": 97,
   "metadata": {},
   "outputs": [],
   "source": [
    "api_key = \"12728HFX0VFH1DQU\""
   ]
  },
  {
   "cell_type": "markdown",
   "metadata": {},
   "source": [
    "***"
   ]
  },
  {
   "cell_type": "markdown",
   "metadata": {},
   "source": [
    "### Task 2: Collection, Parsing and Storage of Data from chosen API(s)"
   ]
  },
  {
   "cell_type": "markdown",
   "metadata": {},
   "source": [
    "#### <font color=orange>Collecting Raw Data and Storing in csv file: </font>\n",
    "\n",
    "The function <u>*get_stock()*</u> is written for collecting the <u>*monthly time series*</u> data from the API, parsing it and storing in the csv file. This function is used for extracting prices and volumes of the stock.\n",
    "<br> For the technical indicator i.e <u>*rsi*</u>,the inbuilt functions from <u>*alpha_vantage*</u> package is used which is stored in the csv file. RSI is intended to chart the current and historical strength or weakness of a stock or market based on the closing prices of a recent trading period.\n"
   ]
  },
  {
   "cell_type": "code",
   "execution_count": 98,
   "metadata": {},
   "outputs": [],
   "source": [
    "# Here, 'stock' is the company, 'function' and 'sub_function' is the time series function based on monthly data.\n",
    "def get_stock(api_key, stock, function, sub_function):  \n",
    "    data = requests.get(\"https://www.alphavantage.co/query?function=\"+ function +\"&symbol=\"+ stock +\"&apikey=\"+ api_key)\n",
    "    data = data.json() # The acquired data is converted in json format\n",
    "    data = data[sub_function]\n",
    "    df = pd.DataFrame(columns=['date','open','high','low','close','volume']) # Assigning names of the column to the dataframe\n",
    "    for d,p in data.items():  # Parsing of date and price in the data\n",
    "        date = datetime.datetime.strptime(d,'%Y-%m-%d')\n",
    "        data_row = [date, float(p['1. open']), float(p['2. high']), float(p['3. low']), float(p['4. close']), int(p['5. volume'])]\n",
    "        df.loc[-1,:] = data_row\n",
    "        df.index = df.index + 1     \n",
    "    df = df.sort_values('date') # Sorting the date in ascending order\n",
    "    df.to_csv(r'stockdata.csv', index = False) #storing the stock prices data in csv file \n",
    "    print(\"Stock Data Collected and stored in csv \\n\")"
   ]
  },
  {
   "cell_type": "code",
   "execution_count": 99,
   "metadata": {},
   "outputs": [
    {
     "name": "stdout",
     "output_type": "stream",
     "text": [
      "Stock Data Collected and stored in csv \n",
      "\n"
     ]
    }
   ],
   "source": [
    "# MSFT-Microsoft (other companies like Google(GOOG), Dow Jones Industrial(DJI), Facebook(FB) etc can be used)\n",
    "get_stock(api_key, \"MSFT\", \"TIME_SERIES_MONTHLY\", \"Monthly Time Series\") "
   ]
  },
  {
   "cell_type": "code",
   "execution_count": 100,
   "metadata": {},
   "outputs": [
    {
     "name": "stdout",
     "output_type": "stream",
     "text": [
      "Technical Indicator collected and 'stored' in csv\n"
     ]
    }
   ],
   "source": [
    "# from the alpha_vantage package, TechIndicators id called which extracts the data and stores it as a dataframe \n",
    "ti = TechIndicators(key=api_key, output_format='pandas')\n",
    "data, meta_data = ti.get_rsi(symbol='MSFT', interval='daily', time_period=60)\n",
    "#data.head()\n",
    "data.to_csv(r'rsi.csv', index = True) # Storing the data in csv file. As 'date' is extracted as index, saving it in csv so as to \n",
    "# make it a column\n",
    "print(\"Technical Indicator collected and 'stored' in csv\")"
   ]
  },
  {
   "cell_type": "markdown",
   "metadata": {},
   "source": [
    "***"
   ]
  },
  {
   "cell_type": "markdown",
   "metadata": {},
   "source": [
    "### Task 4: Load and represent the data using an appropriate data structure. "
   ]
  },
  {
   "cell_type": "markdown",
   "metadata": {},
   "source": [
    "<font color=orange>Using Pandas:</font>\n",
    "\n",
    "__Pandas__ is used to import data from csv file to dataframes.\n",
    "<br>The __'stock_data'__ has high, low, open, close prices and volume of stock with the monthly data.\n",
    "<br>The __'indicator'__ has rsi values on weekly basis."
   ]
  },
  {
   "cell_type": "code",
   "execution_count": 101,
   "metadata": {},
   "outputs": [],
   "source": [
    "stock_file = \"stockdata.csv\"\n",
    "indicator_file = \"rsi.csv\"\n",
    "# making dataframes of both the csv files for easier usage\n",
    "stock_data = pd.read_csv(stock_file)\n",
    "indicator = pd.read_csv(indicator_file)"
   ]
  },
  {
   "cell_type": "code",
   "execution_count": 102,
   "metadata": {},
   "outputs": [
    {
     "data": {
      "text/html": [
       "<div>\n",
       "<style scoped>\n",
       "    .dataframe tbody tr th:only-of-type {\n",
       "        vertical-align: middle;\n",
       "    }\n",
       "\n",
       "    .dataframe tbody tr th {\n",
       "        vertical-align: top;\n",
       "    }\n",
       "\n",
       "    .dataframe thead th {\n",
       "        text-align: right;\n",
       "    }\n",
       "</style>\n",
       "<table border=\"1\" class=\"dataframe\">\n",
       "  <thead>\n",
       "    <tr style=\"text-align: right;\">\n",
       "      <th></th>\n",
       "      <th>date</th>\n",
       "      <th>open</th>\n",
       "      <th>high</th>\n",
       "      <th>low</th>\n",
       "      <th>close</th>\n",
       "      <th>volume</th>\n",
       "    </tr>\n",
       "  </thead>\n",
       "  <tbody>\n",
       "    <tr>\n",
       "      <td>0</td>\n",
       "      <td>2000-04-28 00:00:00</td>\n",
       "      <td>94.44</td>\n",
       "      <td>96.50</td>\n",
       "      <td>65.00</td>\n",
       "      <td>69.75</td>\n",
       "      <td>1129073300</td>\n",
       "    </tr>\n",
       "    <tr>\n",
       "      <td>1</td>\n",
       "      <td>2000-05-31 00:00:00</td>\n",
       "      <td>72.87</td>\n",
       "      <td>74.00</td>\n",
       "      <td>60.38</td>\n",
       "      <td>62.56</td>\n",
       "      <td>672215400</td>\n",
       "    </tr>\n",
       "    <tr>\n",
       "      <td>2</td>\n",
       "      <td>2000-06-30 00:00:00</td>\n",
       "      <td>64.37</td>\n",
       "      <td>82.19</td>\n",
       "      <td>63.81</td>\n",
       "      <td>80.00</td>\n",
       "      <td>733525100</td>\n",
       "    </tr>\n",
       "    <tr>\n",
       "      <td>3</td>\n",
       "      <td>2000-07-31 00:00:00</td>\n",
       "      <td>79.69</td>\n",
       "      <td>82.87</td>\n",
       "      <td>67.25</td>\n",
       "      <td>69.81</td>\n",
       "      <td>617092900</td>\n",
       "    </tr>\n",
       "    <tr>\n",
       "      <td>4</td>\n",
       "      <td>2000-08-31 00:00:00</td>\n",
       "      <td>69.94</td>\n",
       "      <td>74.87</td>\n",
       "      <td>68.12</td>\n",
       "      <td>69.81</td>\n",
       "      <td>609699900</td>\n",
       "    </tr>\n",
       "  </tbody>\n",
       "</table>\n",
       "</div>"
      ],
      "text/plain": [
       "                  date   open   high    low  close      volume\n",
       "0  2000-04-28 00:00:00  94.44  96.50  65.00  69.75  1129073300\n",
       "1  2000-05-31 00:00:00  72.87  74.00  60.38  62.56   672215400\n",
       "2  2000-06-30 00:00:00  64.37  82.19  63.81  80.00   733525100\n",
       "3  2000-07-31 00:00:00  79.69  82.87  67.25  69.81   617092900\n",
       "4  2000-08-31 00:00:00  69.94  74.87  68.12  69.81   609699900"
      ]
     },
     "execution_count": 102,
     "metadata": {},
     "output_type": "execute_result"
    }
   ],
   "source": [
    "stock_data[0:5]"
   ]
  },
  {
   "cell_type": "code",
   "execution_count": 103,
   "metadata": {},
   "outputs": [
    {
     "data": {
      "text/html": [
       "<div>\n",
       "<style scoped>\n",
       "    .dataframe tbody tr th:only-of-type {\n",
       "        vertical-align: middle;\n",
       "    }\n",
       "\n",
       "    .dataframe tbody tr th {\n",
       "        vertical-align: top;\n",
       "    }\n",
       "\n",
       "    .dataframe thead th {\n",
       "        text-align: right;\n",
       "    }\n",
       "</style>\n",
       "<table border=\"1\" class=\"dataframe\">\n",
       "  <thead>\n",
       "    <tr style=\"text-align: right;\">\n",
       "      <th></th>\n",
       "      <th>date</th>\n",
       "      <th>RSI</th>\n",
       "    </tr>\n",
       "  </thead>\n",
       "  <tbody>\n",
       "    <tr>\n",
       "      <td>0</td>\n",
       "      <td>2000-06-16 00:00:00</td>\n",
       "      <td>39.1317</td>\n",
       "    </tr>\n",
       "    <tr>\n",
       "      <td>1</td>\n",
       "      <td>2000-06-19 00:00:00</td>\n",
       "      <td>39.6231</td>\n",
       "    </tr>\n",
       "    <tr>\n",
       "      <td>2</td>\n",
       "      <td>2000-06-20 00:00:00</td>\n",
       "      <td>40.1665</td>\n",
       "    </tr>\n",
       "    <tr>\n",
       "      <td>3</td>\n",
       "      <td>2000-06-21 00:00:00</td>\n",
       "      <td>42.5839</td>\n",
       "    </tr>\n",
       "    <tr>\n",
       "      <td>4</td>\n",
       "      <td>2000-06-22 00:00:00</td>\n",
       "      <td>42.3358</td>\n",
       "    </tr>\n",
       "  </tbody>\n",
       "</table>\n",
       "</div>"
      ],
      "text/plain": [
       "                  date      RSI\n",
       "0  2000-06-16 00:00:00  39.1317\n",
       "1  2000-06-19 00:00:00  39.6231\n",
       "2  2000-06-20 00:00:00  40.1665\n",
       "3  2000-06-21 00:00:00  42.5839\n",
       "4  2000-06-22 00:00:00  42.3358"
      ]
     },
     "execution_count": 103,
     "metadata": {},
     "output_type": "execute_result"
    }
   ],
   "source": [
    "indicator[0:5]"
   ]
  },
  {
   "cell_type": "markdown",
   "metadata": {},
   "source": [
    "#### <font color=orange>Checking for Missing Values:<font>\n",
    "\n",
    "As there are no missing values no pre-processing steps are required."
   ]
  },
  {
   "cell_type": "code",
   "execution_count": 104,
   "metadata": {},
   "outputs": [
    {
     "data": {
      "text/plain": [
       "date      0\n",
       "open      0\n",
       "high      0\n",
       "low       0\n",
       "close     0\n",
       "volume    0\n",
       "dtype: int64"
      ]
     },
     "execution_count": 104,
     "metadata": {},
     "output_type": "execute_result"
    }
   ],
   "source": [
    "#checking for null data in the stored data\n",
    "stock_data.isnull().sum()"
   ]
  },
  {
   "cell_type": "code",
   "execution_count": 105,
   "metadata": {},
   "outputs": [
    {
     "data": {
      "text/plain": [
       "date    0\n",
       "RSI     0\n",
       "dtype: int64"
      ]
     },
     "execution_count": 105,
     "metadata": {},
     "output_type": "execute_result"
    }
   ],
   "source": [
    "indicator.isnull().sum()"
   ]
  },
  {
   "cell_type": "markdown",
   "metadata": {},
   "source": [
    "***"
   ]
  },
  {
   "cell_type": "markdown",
   "metadata": {},
   "source": [
    "### Task 5: Analyse and summarise the cleaned dataset"
   ]
  },
  {
   "cell_type": "markdown",
   "metadata": {},
   "source": [
    "#### <font color= orange>Descriptive Statistics<font>"
   ]
  },
  {
   "cell_type": "code",
   "execution_count": 106,
   "metadata": {},
   "outputs": [
    {
     "name": "stdout",
     "output_type": "stream",
     "text": [
      "Summary Statistics of Stock Data:\n",
      "\n",
      "             open        high         low       close        volume\n",
      "count  240.000000  240.000000  240.000000  240.000000  2.400000e+02\n",
      "mean    47.857095   50.786741   45.005526   47.987624  1.032689e+09\n",
      "std     31.032057   33.046972   29.190844   31.380097  4.170403e+08\n",
      "min     16.035000   18.880000   14.870000   16.150000  3.671344e+08\n",
      "25%     26.860000   28.037750   25.597500   26.704775  6.877302e+08\n",
      "50%     32.140000   35.240000   30.895000   32.850000  9.980080e+08\n",
      "75%     58.750000   63.747500   54.312500   58.197500  1.311714e+09\n",
      "max    170.430000  190.700000  156.510000  170.230000  3.044579e+09\n",
      "\n",
      "Summary Statistics of Technical Indicator(RSI):\n",
      "\n",
      "               RSI\n",
      "count  4973.000000\n",
      "mean     51.509988\n",
      "std       6.031288\n",
      "min      32.873600\n",
      "25%      47.272900\n",
      "50%      51.369800\n",
      "75%      55.986500\n",
      "max      70.202800\n"
     ]
    }
   ],
   "source": [
    "#Analyse and summarising the data of both datasets\n",
    "print(\"Summary Statistics of Stock Data:\\n\")\n",
    "print(stock_data.describe())\n",
    "print(\"\\nSummary Statistics of Technical Indicator(RSI):\\n\")\n",
    "print(indicator.describe())"
   ]
  },
  {
   "cell_type": "markdown",
   "metadata": {},
   "source": [
    "***"
   ]
  },
  {
   "cell_type": "markdown",
   "metadata": {},
   "source": [
    "### TASK 6: Apply pre-processing steps to filter/simplify/breakdown the datasets"
   ]
  },
  {
   "cell_type": "markdown",
   "metadata": {},
   "source": [
    "#### <font color=orange>Modifying datasets:</font>\n",
    "\n",
    "Simplifying and breaking down the dataset from further analysis."
   ]
  },
  {
   "cell_type": "code",
   "execution_count": 107,
   "metadata": {},
   "outputs": [
    {
     "data": {
      "text/html": [
       "<div>\n",
       "<style scoped>\n",
       "    .dataframe tbody tr th:only-of-type {\n",
       "        vertical-align: middle;\n",
       "    }\n",
       "\n",
       "    .dataframe tbody tr th {\n",
       "        vertical-align: top;\n",
       "    }\n",
       "\n",
       "    .dataframe thead th {\n",
       "        text-align: right;\n",
       "    }\n",
       "</style>\n",
       "<table border=\"1\" class=\"dataframe\">\n",
       "  <thead>\n",
       "    <tr style=\"text-align: right;\">\n",
       "      <th></th>\n",
       "      <th>date</th>\n",
       "      <th>open</th>\n",
       "      <th>high</th>\n",
       "      <th>low</th>\n",
       "      <th>close</th>\n",
       "      <th>volume</th>\n",
       "    </tr>\n",
       "  </thead>\n",
       "  <tbody>\n",
       "    <tr>\n",
       "      <td>0</td>\n",
       "      <td>Apr-2000</td>\n",
       "      <td>94.44</td>\n",
       "      <td>96.50</td>\n",
       "      <td>65.00</td>\n",
       "      <td>69.75</td>\n",
       "      <td>1129073300</td>\n",
       "    </tr>\n",
       "    <tr>\n",
       "      <td>1</td>\n",
       "      <td>May-2000</td>\n",
       "      <td>72.87</td>\n",
       "      <td>74.00</td>\n",
       "      <td>60.38</td>\n",
       "      <td>62.56</td>\n",
       "      <td>672215400</td>\n",
       "    </tr>\n",
       "    <tr>\n",
       "      <td>2</td>\n",
       "      <td>Jun-2000</td>\n",
       "      <td>64.37</td>\n",
       "      <td>82.19</td>\n",
       "      <td>63.81</td>\n",
       "      <td>80.00</td>\n",
       "      <td>733525100</td>\n",
       "    </tr>\n",
       "    <tr>\n",
       "      <td>3</td>\n",
       "      <td>Jul-2000</td>\n",
       "      <td>79.69</td>\n",
       "      <td>82.87</td>\n",
       "      <td>67.25</td>\n",
       "      <td>69.81</td>\n",
       "      <td>617092900</td>\n",
       "    </tr>\n",
       "    <tr>\n",
       "      <td>4</td>\n",
       "      <td>Aug-2000</td>\n",
       "      <td>69.94</td>\n",
       "      <td>74.87</td>\n",
       "      <td>68.12</td>\n",
       "      <td>69.81</td>\n",
       "      <td>609699900</td>\n",
       "    </tr>\n",
       "  </tbody>\n",
       "</table>\n",
       "</div>"
      ],
      "text/plain": [
       "       date   open   high    low  close      volume\n",
       "0  Apr-2000  94.44  96.50  65.00  69.75  1129073300\n",
       "1  May-2000  72.87  74.00  60.38  62.56   672215400\n",
       "2  Jun-2000  64.37  82.19  63.81  80.00   733525100\n",
       "3  Jul-2000  79.69  82.87  67.25  69.81   617092900\n",
       "4  Aug-2000  69.94  74.87  68.12  69.81   609699900"
      ]
     },
     "execution_count": 107,
     "metadata": {},
     "output_type": "execute_result"
    }
   ],
   "source": [
    "# Converting datetime format to 'Month-Year' format for better representation\n",
    "stock_data['date'] = pd.to_datetime(stock_data['date']) \n",
    "stock_data['date'] = stock_data['date'].dt.strftime('%b-%Y')\n",
    "stock_data.head()"
   ]
  },
  {
   "cell_type": "code",
   "execution_count": 108,
   "metadata": {},
   "outputs": [
    {
     "name": "stdout",
     "output_type": "stream",
     "text": [
      "        date     open      high      low   close     volume\n",
      "0   Jan-2019   99.550  107.9000   97.200  104.43  714204787\n",
      "1   Feb-2019  103.775  113.2400  102.350  112.03  469095970\n",
      "2   Mar-2019  112.890  120.8200  108.800  117.94  589045341\n",
      "3   Apr-2019  118.950  131.3700  118.100  130.60  433157868\n",
      "4   May-2019  130.530  130.6500  123.040  123.68  547218448\n",
      "5   Jun-2019  123.850  138.4000  119.010  133.96  508324437\n",
      "6   Jul-2019  136.630  141.6750  134.670  136.27  484553299\n",
      "7   Aug-2019  137.000  140.9383  130.780  137.86  585509525\n",
      "8   Sep-2019  136.610  142.3700  134.510  139.03  477645820\n",
      "9   Oct-2019  139.660  145.6700  133.220  143.37  560654410\n",
      "10  Nov-2019  144.260  152.5000  142.965  151.38  393028043\n",
      "11  Dec-2019  151.810  159.5500  146.650  157.70  452664147\n"
     ]
    }
   ],
   "source": [
    "# Creating simplified data for analysis of year 2019\n",
    "stock_2019 = stock_data[stock_data['date'].str.contains(\"2019\")] # filtering data of only the year 2019\n",
    "stock_2019.index = np.arange(len(stock_2019)) # Sorting the dates in ascending order\n",
    "print(stock_2019)"
   ]
  },
  {
   "cell_type": "code",
   "execution_count": 109,
   "metadata": {},
   "outputs": [
    {
     "name": "stdout",
     "output_type": "stream",
     "text": [
      "    date  year  average rsi\n",
      "0   2000  2000    42.138787\n",
      "1   2001  2001    49.815575\n",
      "2   2002  2002    48.134212\n",
      "3   2003  2003    43.774249\n",
      "4   2004  2004    50.120644\n",
      "5   2005  2005    48.735008\n",
      "6   2006  2006    51.783117\n",
      "7   2007  2007    53.132776\n",
      "8   2008  2008    46.507117\n",
      "9   2009  2009    53.385457\n",
      "10  2010  2010    49.858469\n",
      "11  2011  2011    49.578115\n",
      "12  2012  2012    51.813349\n",
      "13  2013  2013    53.980427\n",
      "14  2014  2014    55.841501\n",
      "15  2015  2015    51.665598\n",
      "16  2016  2016    53.240187\n",
      "17  2017  2017    58.835911\n",
      "18  2018  2018    56.032477\n",
      "19  2019  2019    55.938692\n",
      "20  2020  2020    58.855354\n"
     ]
    }
   ],
   "source": [
    "# Creating a new column 'year' from the date \n",
    "indicator['year'] = pd.to_datetime(indicator['date']).dt.strftime('%Y')\n",
    "#indicator.head()\n",
    "# Taking the average of RSI for each year from weekly reports.\n",
    "avg_year = indicator.groupby(    #https://stackoverflow.com/questions/47244294/python-grouping-by-date-and-finding-the-average-of-a-column-inside-a-dataframe\n",
    "    [pd.to_datetime(indicator.date).dt.strftime('%Y'), 'year']\n",
    ")['RSI'].mean().reset_index(name='average rsi')\n",
    "\n",
    "print(avg_year)"
   ]
  },
  {
   "cell_type": "markdown",
   "metadata": {},
   "source": [
    "***"
   ]
  },
  {
   "cell_type": "markdown",
   "metadata": {},
   "source": [
    "### TASK 7: Data Analysis"
   ]
  },
  {
   "cell_type": "markdown",
   "metadata": {},
   "source": [
    "#### <font color=orange>Plots, Graphs & Insights:</font>"
   ]
  },
  {
   "cell_type": "code",
   "execution_count": 110,
   "metadata": {},
   "outputs": [],
   "source": [
    "# plotting packages\n",
    "import matplotlib\n",
    "import matplotlib.pyplot as plt\n",
    "%matplotlib inline\n",
    "from datetime import datetime\n",
    "import matplotlib.patches as mpatches #for legend\n",
    "import seaborn as sns\n",
    "from matplotlib import style # for ggplot- better visualization\n",
    "from pandas.plotting import register_matplotlib_converters\n",
    "# 'plotly' packages and installation\n",
    "%pip install plotly==4.5.4\n",
    "import plotly as py # for candelstick plot\n",
    "import plotly.graph_objects as go\n",
    "from plotly.offline import download_plotlyjs, init_notebook_mode, plot, iplot # offline mode"
   ]
  },
  {
   "cell_type": "markdown",
   "metadata": {},
   "source": [
    "#### - <font color=purple>PLOT 1: Bar Plot</font>"
   ]
  },
  {
   "cell_type": "markdown",
   "metadata": {},
   "source": [
    "Two plots : Bar plot and Multiple line plots are used to analyse the stocks of the year 2019."
   ]
  },
  {
   "cell_type": "code",
   "execution_count": 111,
   "metadata": {},
   "outputs": [
    {
     "data": {
      "image/png": "[encoded data removed]",
      "text/plain": [
       "<Figure size 864x360 with 1 Axes>"
      ]
     },
     "metadata": {},
     "output_type": "display_data"
    }
   ],
   "source": [
    "style.use('ggplot')\n",
    "fig = plt.figure(figsize=(12,5))\n",
    "sns.barplot(x='date', y='volume', data=stock_2019, ci=None, palette='husl')\n",
    "plt.title(\"Volume of Microsoft Stocks In 2019\")\n",
    "plt.xlabel('Months')\n",
    "plt.ylabel('Volume of Stocks')\n",
    "plt.xticks(np.arange(len(stock_2019['date'])),stock_2019['date'],rotation = 45)\n",
    "plt.show()"
   ]
  },
  {
   "cell_type": "markdown",
   "metadata": {},
   "source": [
    "> _From the above bar plot, it is quite evident that the month of January had the highest volume of stocks. There has been a decrease in the volume towards the end of the year. It can also be noticed that there is an alternating increase and decrease in the volume every next month._"
   ]
  },
  {
   "cell_type": "markdown",
   "metadata": {},
   "source": [
    "#### - <font color=purple>PLOT 2: Multiple Line Plots</font>"
   ]
  },
  {
   "cell_type": "code",
   "execution_count": 112,
   "metadata": {},
   "outputs": [
    {
     "data": {
      "image/png": "[encoded data removed]",
      "text/plain": [
       "<Figure size 864x360 with 1 Axes>"
      ]
     },
     "metadata": {},
     "output_type": "display_data"
    }
   ],
   "source": [
    "# plot lines of each price\n",
    "style.use('ggplot')\n",
    "fig = plt.figure(figsize=(12,5))\n",
    "plt.plot(stock_2019[\"high\"], color='blue')\n",
    "plt.plot(stock_2019[\"open\"], color='green')\n",
    "plt.plot(stock_2019[\"low\"], color='orange')\n",
    "plt.plot(stock_2019[\"close\"], color='red')\n",
    "\n",
    "#title\n",
    "plt.title('Microsoft Stock Prices In 2019')\n",
    "\n",
    "#labels\n",
    "plt.xlabel('Timeline')\n",
    "plt.ylabel('Prices')\n",
    "plt.xticks(np.arange(len(stock_2019['date'])),stock_2019['date'],rotation = 45)\n",
    "\n",
    "#legend\n",
    "green_patch = mpatches.Patch(color='green', label='Open')\n",
    "blue_patch = mpatches.Patch(color='blue', label='High')\n",
    "orange_patch = mpatches.Patch(color='orange', label='Low')\n",
    "red_patch = mpatches.Patch(color='red', label='Close')\n",
    "plt.legend(handles=[blue_patch, green_patch, orange_patch, red_patch])\n",
    "\n",
    "#plt.grid(True)\n",
    "\n",
    "plt.show()"
   ]
  },
  {
   "cell_type": "markdown",
   "metadata": {},
   "source": [
    ">_From the above line graph, the market opened for trading in the year 2019 at an average of 100. The highest price at which the stocks were traded was at 160 in December and the lowest price being around 97.The market was closed at around 158 in December. As 'close' is higher than 'open', the year 2019 was evidently positive for Microsoft._"
   ]
  },
  {
   "cell_type": "markdown",
   "metadata": {},
   "source": [
    "***"
   ]
  },
  {
   "cell_type": "markdown",
   "metadata": {},
   "source": [
    "#### - <font color=purple>PLOT 3: Line Plot</font>"
   ]
  },
  {
   "cell_type": "markdown",
   "metadata": {},
   "source": [
    "Analysing Relative Strength Index of Microsoft from the year 2000."
   ]
  },
  {
   "cell_type": "code",
   "execution_count": 113,
   "metadata": {},
   "outputs": [
    {
     "data": {
      "image/png": "[encoded data removed]",
      "text/plain": [
       "<Figure size 864x360 with 1 Axes>"
      ]
     },
     "metadata": {},
     "output_type": "display_data"
    }
   ],
   "source": [
    "#PLOT5: line for rsi\n",
    "style.use('ggplot')\n",
    "fig, ax4 = plt.subplots(figsize=(12,5))\n",
    "plt.plot(avg_year['date'], avg_year['average rsi'], c='purple')\n",
    "plt.title(\"Relative Strength Index (RSI) of Microsoft Stocks from 2000\")\n",
    "#plt.grid()\n",
    "plt.show()"
   ]
  },
  {
   "cell_type": "markdown",
   "metadata": {},
   "source": [
    ">_Relative Strength Index helps to decide when to buy or sell stocks._"
   ]
  },
  {
   "cell_type": "markdown",
   "metadata": {},
   "source": [
    "#### - <font color=purple>PLOT 4: Histogram</font>"
   ]
  },
  {
   "cell_type": "code",
   "execution_count": 114,
   "metadata": {},
   "outputs": [
    {
     "data": {
      "image/png": "[encoded data removed]",
      "text/plain": [
       "<Figure size 864x360 with 1 Axes>"
      ]
     },
     "metadata": {},
     "output_type": "display_data"
    }
   ],
   "source": [
    "style.use('ggplot')\n",
    "fig, ax5 = plt.subplots(figsize=(12,5))\n",
    "years = indicator['date']\n",
    "rsi = indicator['RSI']\n",
    "\n",
    "plt.hist(rsi, color='orange',edgecolor='black', linewidth=1)\n",
    "plt.title(\"RSI of Microsoft Stocks from 2000\")\n",
    "\n",
    "plt.show()"
   ]
  },
  {
   "cell_type": "markdown",
   "metadata": {},
   "source": [
    ">_The Histogram above shows that most of the Relative Srength Index is maintained between 40-60 , which is desirable even though it oscillates a bit between oversold(<30) and overbought(>70)_"
   ]
  },
  {
   "cell_type": "markdown",
   "metadata": {},
   "source": [
    "***"
   ]
  },
  {
   "cell_type": "markdown",
   "metadata": {},
   "source": [
    "#### - <font color=purple>PLOT 5: Regression Scatter Plot</font>"
   ]
  },
  {
   "cell_type": "markdown",
   "metadata": {},
   "source": [
    "Analysing OHLC of Microsoft from year 2014."
   ]
  },
  {
   "cell_type": "code",
   "execution_count": 115,
   "metadata": {},
   "outputs": [
    {
     "data": {
      "image/png": "[encoded data removed]",
      "text/plain": [
       "<Figure size 864x360 with 1 Axes>"
      ]
     },
     "metadata": {},
     "output_type": "display_data"
    }
   ],
   "source": [
    "style.use('ggplot')\n",
    "fig = plt.figure(figsize=(12,5))\n",
    "ax3 = sns.regplot(x=stock_data['high'], y=stock_data['low'],color='b', line_kws={\"color\":\"r\",\"alpha\":0.7,\"lw\":4})\n",
    "ax3.set_xticks([0,50,100,150,200])\n",
    "ax3.set_yticks([0,50,100,150,200])\n",
    "plt.xlabel('High')\n",
    "plt.ylabel('Low')\n",
    "plt.title(\"High vs Low Prices of Microsoft Stocks from 2014\")\n",
    "plt.show()"
   ]
  },
  {
   "cell_type": "markdown",
   "metadata": {},
   "source": [
    ">_The regression plot helps to show the outliers in high and low prices of Microsoft from 2014._"
   ]
  },
  {
   "cell_type": "markdown",
   "metadata": {},
   "source": [
    "#### - <font color=purple>PLOT 6: Area Plot</font>"
   ]
  },
  {
   "cell_type": "code",
   "execution_count": 116,
   "metadata": {},
   "outputs": [
    {
     "data": {
      "image/png": "[encoded data removed]",
      "text/plain": [
       "<Figure size 864x360 with 1 Axes>"
      ]
     },
     "metadata": {},
     "output_type": "display_data"
    }
   ],
   "source": [
    "style.use('ggplot')\n",
    "close = stock_data['close']\n",
    "date = stock_data['date']\n",
    "fig = plt.figure(figsize=(12,5))\n",
    "ax = fig.add_subplot(111)\n",
    "#plot\n",
    "ax.plot_date(date, close, '-', label='Price', color='blue')\n",
    "ax.plot([],[], linewidth=5, label='Profit', color='g',alpha=0.4)\n",
    "ax.plot([],[], linewidth=5, label='Loss', color='r',alpha=0.4)\n",
    "ax.fill_between(date,close, close[0], where=(close>close[0]),facecolor='g',alpha=0.4) #if we buy the stock at 67 i.e the price in April 2000\n",
    "ax.fill_between(date,close, close[0], where=(close<close[0]),facecolor='r',alpha=0.4) \n",
    "ax.set_yticks([0,50,100,150,200])\n",
    "\n",
    "ax.set_xticks(date[::12]) #displaying every 12th value\n",
    "ax.set_xticklabels(date[::12], rotation=45)\n",
    "\n",
    "\n",
    "#title\n",
    "plt.title('Stock Prices of Microsoft from 2014')\n",
    "#legend\n",
    "plt.legend()\n",
    "#labels\n",
    "plt.xlabel('Months')\n",
    "plt.ylabel('Close Prices')\n",
    "#plt.xticks(numpy.arange(len(stock_data['date'])), stock_data['date'],rotation = 40)\n",
    "#plt.grid()\n",
    "plt.show()"
   ]
  },
  {
   "cell_type": "markdown",
   "metadata": {},
   "source": [
    ">_'Close' prices are always considered ideal to check the growth of a company. Suppose we bought the stocks at the price of 67 which is the price in Apr 2000, then the area marked in red shows that the we would be in loss till 2017 and from 2017 we would be profited._"
   ]
  },
  {
   "cell_type": "markdown",
   "metadata": {},
   "source": [
    "#### - <font color=purple>PLOT 7: Candlestick</font>"
   ]
  },
  {
   "cell_type": "markdown",
   "metadata": {},
   "source": [
    "Candlestick plots are used to represent financial plots. It has inbuilt function to represent Open, High, Low, Close prices to represent the stock trends with details."
   ]
  },
  {
   "cell_type": "code",
   "execution_count": 117,
   "metadata": {},
   "outputs": [
    {
     "data": {
      "text/html": [
       "        <script type=\"text/javascript\">\n",
       "        window.PlotlyConfig = {MathJaxConfig: 'local'};\n",
       "        if (window.MathJax) {MathJax.Hub.Config({SVG: {font: \"STIX-Web\"}});}\n",
       "        if (typeof require !== 'undefined') {\n",
       "        require.undef(\"plotly\");\n",
       "        requirejs.config({\n",
       "            paths: {\n",
       "                'plotly': ['https://cdn.plot.ly/plotly-latest.min']\n",
       "            }\n",
       "        });\n",
       "        require(['plotly'], function(Plotly) {\n",
       "            window._Plotly = Plotly;\n",
       "        });\n",
       "        }\n",
       "        </script>\n",
       "        "
      ]
     },
     "metadata": {},
     "output_type": "display_data"
    },
    {
     "data": {
      "application/vnd.plotly.v1+json": {
       "config": {
        "plotlyServerURL": "https://plot.ly"
       },
       "data": [
        {
         "close": [
          69.75,
          62.56,
          80,
          69.81,
          69.81,
          60.31,
          68.87,
          57.38,
          43.38,
          61.06,
          59,
          54.69,
          67.75,
          69.18,
          73,
          66.19,
          57.05,
          51.17,
          58.15,
          64.21,
          66.25,
          63.71,
          58.34,
          60.31,
          52.26,
          50.91,
          54.7,
          47.98,
          49.08,
          43.74,
          53.47,
          57.68,
          51.7,
          47.46,
          23.7,
          24.21,
          25.57,
          24.61,
          25.64,
          26.41,
          26.52,
          27.8,
          26.14,
          25.71,
          27.37,
          27.65,
          26.53,
          24.93,
          26.13,
          26.23,
          28.56,
          28.49,
          27.3,
          27.65,
          27.97,
          26.81,
          26.72,
          26.28,
          25.16,
          24.17,
          25.3,
          25.8,
          24.84,
          25.61,
          27.38,
          25.73,
          25.7,
          27.68,
          26.15,
          28.15,
          26.87,
          27.21,
          24.15,
          22.65,
          23.3,
          24.06,
          25.7,
          27.35,
          28.71,
          29.36,
          29.86,
          30.86,
          28.17,
          27.87,
          29.94,
          30.6901,
          29.47,
          28.99,
          28.73,
          29.46,
          36.81,
          33.6,
          35.6,
          32.6,
          27.1999,
          28.38,
          28.52,
          28.32,
          27.51,
          25.72,
          27.29,
          26.69,
          22.33,
          20.22,
          19.44,
          17.1,
          16.15,
          18.37,
          20.26,
          20.89,
          23.77,
          23.52,
          24.65,
          25.72,
          27.73,
          29.41,
          30.48,
          28.18,
          28.67,
          29.2875,
          30.535,
          25.8,
          23.01,
          25.81,
          23.465,
          24.49,
          26.665,
          25.2575,
          27.91,
          27.725,
          26.58,
          25.39,
          25.92,
          25.01,
          26,
          27.4,
          26.6,
          24.89,
          26.63,
          25.58,
          25.96,
          29.53,
          31.74,
          32.255,
          32.015,
          29.19,
          30.59,
          29.47,
          30.82,
          29.76,
          28.54,
          26.615,
          26.7097,
          27.45,
          27.8,
          28.605,
          33.1,
          34.9,
          34.545,
          31.84,
          33.4,
          33.28,
          35.405,
          38.13,
          37.41,
          37.84,
          38.31,
          40.99,
          40.4,
          40.94,
          41.7,
          43.16,
          45.43,
          46.36,
          46.95,
          47.81,
          46.45,
          40.4,
          43.85,
          40.655,
          48.64,
          46.86,
          44.15,
          46.7,
          43.52,
          44.26,
          52.64,
          54.35,
          55.48,
          55.09,
          50.88,
          55.23,
          49.87,
          53,
          51.17,
          56.68,
          57.46,
          57.6,
          59.92,
          60.26,
          62.14,
          64.65,
          63.98,
          65.86,
          68.46,
          69.84,
          68.93,
          72.7,
          74.77,
          74.49,
          83.18,
          84.17,
          85.54,
          95.01,
          93.77,
          91.27,
          93.52,
          98.84,
          98.61,
          106.08,
          112.33,
          114.37,
          106.81,
          110.89,
          101.57,
          104.43,
          112.03,
          117.94,
          130.6,
          123.68,
          133.96,
          136.27,
          137.86,
          139.03,
          143.37,
          151.38,
          157.7,
          170.23,
          162.01,
          144.7
         ],
         "high": [
          96.5,
          74,
          82.19,
          82.87,
          74.87,
          72.06,
          70.12,
          72.37,
          60.63,
          64.75,
          65.06,
          61.13,
          71.1,
          72.15,
          76.15,
          73.15,
          67.54,
          59.08,
          63.63,
          68.34,
          69.89,
          70.62,
          64.5,
          65,
          60.4,
          56.44,
          56.44,
          54.93,
          53.45,
          51.1,
          54.07,
          58.64,
          58.96,
          57.32,
          49.1,
          26.8,
          26.43,
          26.5,
          26.51,
          27.81,
          26.95,
          30,
          29.46,
          26.75,
          27.55,
          28.83,
          27.8,
          26.72,
          27.72,
          26.6,
          28.8,
          29.89,
          28.55,
          27.79,
          28.89,
          30.2,
          27.44,
          27.1,
          26.5,
          25.79,
          25.45,
          26.09,
          26,
          26.48,
          27.94,
          27.39,
          25.8,
          28.25,
          28.101,
          28.38,
          28.07,
          28.22,
          27.941,
          25,
          23.65,
          24.6,
          26.2501,
          27.52,
          28.8501,
          30.0001,
          30.26,
          31.48,
          30.94,
          28.55,
          30.74,
          31.16,
          30.9,
          31.84,
          30.1,
          29.85,
          37,
          37.5,
          36.72,
          35.96,
          33.25,
          29.59,
          32.1,
          30.53,
          29.57,
          27.91,
          28.5,
          27.76,
          27.47,
          23.66,
          21.25,
          21,
          19.93,
          18.88,
          21.2,
          20.94,
          24.34,
          25.72,
          25.49,
          26.25,
          29.35,
          30.14,
          31.5,
          31.24,
          29.03,
          30.57,
          31.58,
          31.0606,
          26.93,
          26.41,
          26.38,
          25.53,
          27.2,
          27.49,
          28.4,
          29.46,
          28.34,
          26.78,
          26.87,
          26.25,
          26,
          28.145,
          27.685,
          27.5,
          27.5,
          27.2,
          26.19,
          29.95,
          32,
          32.95,
          32.89,
          32.335,
          31.14,
          31.05,
          30.96,
          31.61,
          30.25,
          30.2,
          27.73,
          28.23,
          28.2,
          28.66,
          33.11,
          35.28,
          35.78,
          36.4299,
          35.2,
          33.75,
          36.29,
          38.29,
          38.98,
          37.89,
          38.46,
          41.5,
          41.66,
          40.97,
          42.29,
          45.71,
          45.47,
          47.57,
          46.97,
          50.045,
          49.06,
          47.91,
          44.3,
          44.19,
          49.54,
          48.905,
          47.77,
          47.4,
          48.41,
          45,
          54.37,
          54.98,
          56.85,
          55.39,
          55.09,
          55.64,
          56.77,
          53,
          52.95,
          57.29,
          58.7,
          58.19,
          61.3699,
          61.41,
          64.1,
          65.91,
          65.24,
          66.19,
          69.14,
          70.74,
          72.89,
          74.42,
          74.96,
          75.97,
          86.2,
          85.06,
          87.4999,
          95.45,
          96.07,
          97.24,
          97.9,
          99.99,
          102.69,
          111.15,
          112.777,
          115.29,
          116.18,
          112.24,
          113.42,
          107.9,
          113.24,
          120.82,
          131.37,
          130.65,
          138.4,
          141.675,
          140.9383,
          142.37,
          145.67,
          152.5,
          159.55,
          174.05,
          190.7,
          175
         ],
         "low": [
          65,
          60.38,
          63.81,
          67.25,
          68.12,
          58.63,
          48.44,
          57,
          40.31,
          42.88,
          53.88,
          49.75,
          51.06,
          67.25,
          66.01,
          64.2,
          56.3,
          47.5,
          50.41,
          59.6,
          63.8,
          61.33,
          57.15,
          58.31,
          51.44,
          48.35,
          49.17,
          41.41,
          43.8,
          43.11,
          43.19,
          51.9,
          51.26,
          47.03,
          23.3,
          22.55,
          23.95,
          23.89,
          23.6,
          25.39,
          25.43,
          26.47,
          25.91,
          24.84,
          25.5,
          27.26,
          26.35,
          24.01,
          24.85,
          25.42,
          25.86,
          27.25,
          25.95,
          26.74,
          27.42,
          24.86,
          26.679000000000002,
          25.64,
          25.1296,
          23.82,
          23.94,
          24.31,
          24.82,
          24.5,
          25.76,
          25.12,
          24.25,
          25.61,
          26.1,
          26.1,
          26.34,
          26.62,
          24,
          22.45,
          21.4599,
          22.23,
          23.85,
          25.39,
          27.15,
          28.58,
          28.8,
          29.4,
          27.79,
          26.6,
          27.56,
          29.9,
          29.04,
          28.95,
          27.51,
          28.27,
          29.29,
          32.68,
          32.63,
          31.04,
          27.02,
          26.87,
          27.93,
          27.95,
          27.11,
          24.87,
          25.07,
          23.5,
          20.65,
          17.5,
          18.47,
          16.75,
          16.1,
          14.87,
          18.18,
          19.01,
          20.86,
          22,
          23.03,
          23.76,
          24.43,
          27.41,
          29.25,
          27.66,
          27.57,
          28.24,
          28.62,
          24.56,
          22.95,
          22.73,
          23.32,
          23.54,
          23.78,
          24.93,
          25.56,
          27.42,
          26.43,
          24.68,
          24.72,
          24.03,
          23.65,
          25.84,
          23.79,
          24.6,
          24.26,
          24.3,
          25.16,
          26.39,
          29.71,
          31.49,
          30.23,
          28.64,
          28.32,
          28.54,
          28.97,
          29.74,
          27.76,
          26.3449,
          26.26,
          26.28,
          27.1,
          27.52,
          28.11,
          32.32,
          32.57,
          31.02,
          30.84,
          30.95,
          32.8,
          35.39,
          35.53,
          34.63,
          35.69,
          37.495,
          38.9,
          38.51,
          39.86,
          41.05,
          42.21,
          44.53,
          42.1,
          46.73,
          44.9,
          40.35,
          40.23,
          40.54,
          40.12,
          46.02,
          43.94,
          43.32,
          39.72,
          41.66,
          43.75,
          52.53,
          53.68,
          49.1,
          48.19,
          50.58,
          49.35,
          49.46,
          48.035,
          50.39,
          56.14,
          55.61,
          56.315,
          57.28,
          58.8,
          61.95,
          62.75,
          63.62,
          64.85,
          67.14,
          68.09,
          68.02,
          71.28,
          72.92,
          73.71,
          82.24,
          80.7,
          85.5,
          83.83,
          87.08,
          87.51,
          92.45,
          97.26,
          98,
          104.84,
          107.23,
          100.11,
          99.3528,
          93.96,
          97.2,
          102.35,
          108.8,
          118.1,
          123.04,
          119.01,
          134.67,
          130.78,
          134.51,
          133.22,
          142.965,
          146.65,
          156.51,
          152,
          132.52
         ],
         "open": [
          94.44,
          72.87,
          64.37,
          79.69,
          69.94,
          70,
          60.5,
          68.5,
          58.06,
          44.13,
          60.81,
          58.56,
          54.81,
          67.66,
          69.6,
          72.05,
          66.8,
          57.19,
          50.94,
          60.08,
          63.83,
          66.65,
          64.15,
          59.05,
          59.83,
          52.16,
          50.99,
          54.12,
          47.58,
          48.52,
          44.32,
          52.43,
          58.65,
          52.3,
          47.93,
          24.02,
          24.46,
          25.54,
          24.98,
          25.59,
          26.33,
          26.7,
          28.03,
          26.35,
          25.9,
          27.58,
          27.63,
          26.65,
          24.95,
          26.21,
          26.12,
          28.69,
          28.27,
          27.24,
          27.81,
          28.15,
          26.95,
          26.8,
          26.25,
          25.2,
          24.24,
          25.23,
          25.73,
          24.85,
          25.82,
          27.38,
          25.71,
          25.61,
          27.73,
          26.25,
          27.95,
          26.99,
          27.67,
          24.33,
          22.74,
          23.53,
          24.02,
          25.89,
          27.32,
          28.78,
          29.23,
          29.91,
          30.84,
          27.82,
          27.89,
          29.94,
          30.79,
          29.67,
          28.97,
          28.5,
          29.46,
          36.53,
          33.5,
          35.79,
          31.06,
          27.24,
          28.83,
          28.48,
          28.24,
          27.22,
          25.95,
          27.665,
          26.38,
          22.48,
          19.875,
          19.5328,
          17.01,
          16.035,
          18.23,
          20.19,
          21,
          24.05,
          23.82,
          24.35,
          25.405,
          27.7,
          29.52,
          30.62,
          28.39,
          28.77,
          29.35,
          30.67,
          25.53,
          23.09,
          25.99,
          23.67,
          24.49,
          26.88,
          25.57,
          28.05,
          27.8,
          26.6,
          25.53,
          25.94,
          24.99,
          25.93,
          27.51,
          26.46,
          24.72,
          26.19,
          25.56,
          26.55,
          29.79,
          31.93,
          32.22,
          32.05,
          28.76,
          30.62,
          29.59,
          30.45,
          29.81,
          28.84,
          26.78,
          27.25,
          27.67,
          27.72,
          28.64,
          32.93,
          34.92,
          34.75,
          32.06,
          31.75,
          33.35,
          35.67,
          38.09,
          37.35,
          37.74,
          37.92,
          41.15,
          40.2401,
          40.95,
          41.86,
          43.21,
          45.43,
          46.27,
          46.89,
          47.88,
          46.66,
          40.59,
          43.67,
          40.6,
          48.58,
          47.06,
          44.46,
          46.98,
          42.23,
          44.75,
          52.85,
          54.41,
          54.32,
          54.88,
          50.97,
          55.05,
          50,
          52.44,
          51.13,
          56.6,
          57.01,
          57.405,
          59.97,
          60.11,
          62.79,
          64.355,
          64.13,
          65.81,
          68.68,
          70.24,
          69.33,
          73.1,
          74.71,
          74.71,
          83.68,
          83.6,
          86.125,
          94.79,
          93.99,
          90.47,
          93.21,
          99.2798,
          98.1,
          106.03,
          110.85,
          114.75,
          107.05,
          113,
          99.55,
          103.775,
          112.89,
          118.95,
          130.53,
          123.85,
          136.63,
          137,
          136.61,
          139.66,
          144.26,
          151.81,
          158.78,
          170.43,
          165.31
         ],
         "type": "candlestick",
         "x": [
          "Apr-2000",
          "May-2000",
          "Jun-2000",
          "Jul-2000",
          "Aug-2000",
          "Sep-2000",
          "Oct-2000",
          "Nov-2000",
          "Dec-2000",
          "Jan-2001",
          "Feb-2001",
          "Mar-2001",
          "Apr-2001",
          "May-2001",
          "Jun-2001",
          "Jul-2001",
          "Aug-2001",
          "Sep-2001",
          "Oct-2001",
          "Nov-2001",
          "Dec-2001",
          "Jan-2002",
          "Feb-2002",
          "Mar-2002",
          "Apr-2002",
          "May-2002",
          "Jun-2002",
          "Jul-2002",
          "Aug-2002",
          "Sep-2002",
          "Oct-2002",
          "Nov-2002",
          "Dec-2002",
          "Jan-2003",
          "Feb-2003",
          "Mar-2003",
          "Apr-2003",
          "May-2003",
          "Jun-2003",
          "Jul-2003",
          "Aug-2003",
          "Sep-2003",
          "Oct-2003",
          "Nov-2003",
          "Dec-2003",
          "Jan-2004",
          "Feb-2004",
          "Mar-2004",
          "Apr-2004",
          "May-2004",
          "Jun-2004",
          "Jul-2004",
          "Aug-2004",
          "Sep-2004",
          "Oct-2004",
          "Nov-2004",
          "Dec-2004",
          "Jan-2005",
          "Feb-2005",
          "Mar-2005",
          "Apr-2005",
          "May-2005",
          "Jun-2005",
          "Jul-2005",
          "Aug-2005",
          "Sep-2005",
          "Oct-2005",
          "Nov-2005",
          "Dec-2005",
          "Jan-2006",
          "Feb-2006",
          "Mar-2006",
          "Apr-2006",
          "May-2006",
          "Jun-2006",
          "Jul-2006",
          "Aug-2006",
          "Sep-2006",
          "Oct-2006",
          "Nov-2006",
          "Dec-2006",
          "Jan-2007",
          "Feb-2007",
          "Mar-2007",
          "Apr-2007",
          "May-2007",
          "Jun-2007",
          "Jul-2007",
          "Aug-2007",
          "Sep-2007",
          "Oct-2007",
          "Nov-2007",
          "Dec-2007",
          "Jan-2008",
          "Feb-2008",
          "Mar-2008",
          "Apr-2008",
          "May-2008",
          "Jun-2008",
          "Jul-2008",
          "Aug-2008",
          "Sep-2008",
          "Oct-2008",
          "Nov-2008",
          "Dec-2008",
          "Jan-2009",
          "Feb-2009",
          "Mar-2009",
          "Apr-2009",
          "May-2009",
          "Jun-2009",
          "Jul-2009",
          "Aug-2009",
          "Sep-2009",
          "Oct-2009",
          "Nov-2009",
          "Dec-2009",
          "Jan-2010",
          "Feb-2010",
          "Mar-2010",
          "Apr-2010",
          "May-2010",
          "Jun-2010",
          "Jul-2010",
          "Aug-2010",
          "Sep-2010",
          "Oct-2010",
          "Nov-2010",
          "Dec-2010",
          "Jan-2011",
          "Feb-2011",
          "Mar-2011",
          "Apr-2011",
          "May-2011",
          "Jun-2011",
          "Jul-2011",
          "Aug-2011",
          "Sep-2011",
          "Oct-2011",
          "Nov-2011",
          "Dec-2011",
          "Jan-2012",
          "Feb-2012",
          "Mar-2012",
          "Apr-2012",
          "May-2012",
          "Jun-2012",
          "Jul-2012",
          "Aug-2012",
          "Sep-2012",
          "Oct-2012",
          "Nov-2012",
          "Dec-2012",
          "Jan-2013",
          "Feb-2013",
          "Mar-2013",
          "Apr-2013",
          "May-2013",
          "Jun-2013",
          "Jul-2013",
          "Aug-2013",
          "Sep-2013",
          "Oct-2013",
          "Nov-2013",
          "Dec-2013",
          "Jan-2014",
          "Feb-2014",
          "Mar-2014",
          "Apr-2014",
          "May-2014",
          "Jun-2014",
          "Jul-2014",
          "Aug-2014",
          "Sep-2014",
          "Oct-2014",
          "Nov-2014",
          "Dec-2014",
          "Jan-2015",
          "Feb-2015",
          "Mar-2015",
          "Apr-2015",
          "May-2015",
          "Jun-2015",
          "Jul-2015",
          "Aug-2015",
          "Sep-2015",
          "Oct-2015",
          "Nov-2015",
          "Dec-2015",
          "Jan-2016",
          "Feb-2016",
          "Mar-2016",
          "Apr-2016",
          "May-2016",
          "Jun-2016",
          "Jul-2016",
          "Aug-2016",
          "Sep-2016",
          "Oct-2016",
          "Nov-2016",
          "Dec-2016",
          "Jan-2017",
          "Feb-2017",
          "Mar-2017",
          "Apr-2017",
          "May-2017",
          "Jun-2017",
          "Jul-2017",
          "Aug-2017",
          "Sep-2017",
          "Oct-2017",
          "Nov-2017",
          "Dec-2017",
          "Jan-2018",
          "Feb-2018",
          "Mar-2018",
          "Apr-2018",
          "May-2018",
          "Jun-2018",
          "Jul-2018",
          "Aug-2018",
          "Sep-2018",
          "Oct-2018",
          "Nov-2018",
          "Dec-2018",
          "Jan-2019",
          "Feb-2019",
          "Mar-2019",
          "Apr-2019",
          "May-2019",
          "Jun-2019",
          "Jul-2019",
          "Aug-2019",
          "Sep-2019",
          "Oct-2019",
          "Nov-2019",
          "Dec-2019",
          "Jan-2020",
          "Feb-2020",
          "Mar-2020"
         ]
        }
       ],
       "layout": {
        "autosize": false,
        "height": 500,
        "showlegend": true,
        "template": {
         "data": {
          "bar": [
           {
            "error_x": {
             "color": "#2a3f5f"
            },
            "error_y": {
             "color": "#2a3f5f"
            },
            "marker": {
             "line": {
              "color": "#E5ECF6",
              "width": 0.5
             }
            },
            "type": "bar"
           }
          ],
          "barpolar": [
           {
            "marker": {
             "line": {
              "color": "#E5ECF6",
              "width": 0.5
             }
            },
            "type": "barpolar"
           }
          ],
          "carpet": [
           {
            "aaxis": {
             "endlinecolor": "#2a3f5f",
             "gridcolor": "white",
             "linecolor": "white",
             "minorgridcolor": "white",
             "startlinecolor": "#2a3f5f"
            },
            "baxis": {
             "endlinecolor": "#2a3f5f",
             "gridcolor": "white",
             "linecolor": "white",
             "minorgridcolor": "white",
             "startlinecolor": "#2a3f5f"
            },
            "type": "carpet"
           }
          ],
          "choropleth": [
           {
            "colorbar": {
             "outlinewidth": 0,
             "ticks": ""
            },
            "type": "choropleth"
           }
          ],
          "contour": [
           {
            "colorbar": {
             "outlinewidth": 0,
             "ticks": ""
            },
            "colorscale": [
             [
              0,
              "#0d0887"
             ],
             [
              0.1111111111111111,
              "#46039f"
             ],
             [
              0.2222222222222222,
              "#7201a8"
             ],
             [
              0.3333333333333333,
              "#9c179e"
             ],
             [
              0.4444444444444444,
              "#bd3786"
             ],
             [
              0.5555555555555556,
              "#d8576b"
             ],
             [
              0.6666666666666666,
              "#ed7953"
             ],
             [
              0.7777777777777778,
              "#fb9f3a"
             ],
             [
              0.8888888888888888,
              "#fdca26"
             ],
             [
              1,
              "#f0f921"
             ]
            ],
            "type": "contour"
           }
          ],
          "contourcarpet": [
           {
            "colorbar": {
             "outlinewidth": 0,
             "ticks": ""
            },
            "type": "contourcarpet"
           }
          ],
          "heatmap": [
           {
            "colorbar": {
             "outlinewidth": 0,
             "ticks": ""
            },
            "colorscale": [
             [
              0,
              "#0d0887"
             ],
             [
              0.1111111111111111,
              "#46039f"
             ],
             [
              0.2222222222222222,
              "#7201a8"
             ],
             [
              0.3333333333333333,
              "#9c179e"
             ],
             [
              0.4444444444444444,
              "#bd3786"
             ],
             [
              0.5555555555555556,
              "#d8576b"
             ],
             [
              0.6666666666666666,
              "#ed7953"
             ],
             [
              0.7777777777777778,
              "#fb9f3a"
             ],
             [
              0.8888888888888888,
              "#fdca26"
             ],
             [
              1,
              "#f0f921"
             ]
            ],
            "type": "heatmap"
           }
          ],
          "heatmapgl": [
           {
            "colorbar": {
             "outlinewidth": 0,
             "ticks": ""
            },
            "colorscale": [
             [
              0,
              "#0d0887"
             ],
             [
              0.1111111111111111,
              "#46039f"
             ],
             [
              0.2222222222222222,
              "#7201a8"
             ],
             [
              0.3333333333333333,
              "#9c179e"
             ],
             [
              0.4444444444444444,
              "#bd3786"
             ],
             [
              0.5555555555555556,
              "#d8576b"
             ],
             [
              0.6666666666666666,
              "#ed7953"
             ],
             [
              0.7777777777777778,
              "#fb9f3a"
             ],
             [
              0.8888888888888888,
              "#fdca26"
             ],
             [
              1,
              "#f0f921"
             ]
            ],
            "type": "heatmapgl"
           }
          ],
          "histogram": [
           {
            "marker": {
             "colorbar": {
              "outlinewidth": 0,
              "ticks": ""
             }
            },
            "type": "histogram"
           }
          ],
          "histogram2d": [
           {
            "colorbar": {
             "outlinewidth": 0,
             "ticks": ""
            },
            "colorscale": [
             [
              0,
              "#0d0887"
             ],
             [
              0.1111111111111111,
              "#46039f"
             ],
             [
              0.2222222222222222,
              "#7201a8"
             ],
             [
              0.3333333333333333,
              "#9c179e"
             ],
             [
              0.4444444444444444,
              "#bd3786"
             ],
             [
              0.5555555555555556,
              "#d8576b"
             ],
             [
              0.6666666666666666,
              "#ed7953"
             ],
             [
              0.7777777777777778,
              "#fb9f3a"
             ],
             [
              0.8888888888888888,
              "#fdca26"
             ],
             [
              1,
              "#f0f921"
             ]
            ],
            "type": "histogram2d"
           }
          ],
          "histogram2dcontour": [
           {
            "colorbar": {
             "outlinewidth": 0,
             "ticks": ""
            },
            "colorscale": [
             [
              0,
              "#0d0887"
             ],
             [
              0.1111111111111111,
              "#46039f"
             ],
             [
              0.2222222222222222,
              "#7201a8"
             ],
             [
              0.3333333333333333,
              "#9c179e"
             ],
             [
              0.4444444444444444,
              "#bd3786"
             ],
             [
              0.5555555555555556,
              "#d8576b"
             ],
             [
              0.6666666666666666,
              "#ed7953"
             ],
             [
              0.7777777777777778,
              "#fb9f3a"
             ],
             [
              0.8888888888888888,
              "#fdca26"
             ],
             [
              1,
              "#f0f921"
             ]
            ],
            "type": "histogram2dcontour"
           }
          ],
          "mesh3d": [
           {
            "colorbar": {
             "outlinewidth": 0,
             "ticks": ""
            },
            "type": "mesh3d"
           }
          ],
          "parcoords": [
           {
            "line": {
             "colorbar": {
              "outlinewidth": 0,
              "ticks": ""
             }
            },
            "type": "parcoords"
           }
          ],
          "pie": [
           {
            "automargin": true,
            "type": "pie"
           }
          ],
          "scatter": [
           {
            "marker": {
             "colorbar": {
              "outlinewidth": 0,
              "ticks": ""
             }
            },
            "type": "scatter"
           }
          ],
          "scatter3d": [
           {
            "line": {
             "colorbar": {
              "outlinewidth": 0,
              "ticks": ""
             }
            },
            "marker": {
             "colorbar": {
              "outlinewidth": 0,
              "ticks": ""
             }
            },
            "type": "scatter3d"
           }
          ],
          "scattercarpet": [
           {
            "marker": {
             "colorbar": {
              "outlinewidth": 0,
              "ticks": ""
             }
            },
            "type": "scattercarpet"
           }
          ],
          "scattergeo": [
           {
            "marker": {
             "colorbar": {
              "outlinewidth": 0,
              "ticks": ""
             }
            },
            "type": "scattergeo"
           }
          ],
          "scattergl": [
           {
            "marker": {
             "colorbar": {
              "outlinewidth": 0,
              "ticks": ""
             }
            },
            "type": "scattergl"
           }
          ],
          "scattermapbox": [
           {
            "marker": {
             "colorbar": {
              "outlinewidth": 0,
              "ticks": ""
             }
            },
            "type": "scattermapbox"
           }
          ],
          "scatterpolar": [
           {
            "marker": {
             "colorbar": {
              "outlinewidth": 0,
              "ticks": ""
             }
            },
            "type": "scatterpolar"
           }
          ],
          "scatterpolargl": [
           {
            "marker": {
             "colorbar": {
              "outlinewidth": 0,
              "ticks": ""
             }
            },
            "type": "scatterpolargl"
           }
          ],
          "scatterternary": [
           {
            "marker": {
             "colorbar": {
              "outlinewidth": 0,
              "ticks": ""
             }
            },
            "type": "scatterternary"
           }
          ],
          "surface": [
           {
            "colorbar": {
             "outlinewidth": 0,
             "ticks": ""
            },
            "colorscale": [
             [
              0,
              "#0d0887"
             ],
             [
              0.1111111111111111,
              "#46039f"
             ],
             [
              0.2222222222222222,
              "#7201a8"
             ],
             [
              0.3333333333333333,
              "#9c179e"
             ],
             [
              0.4444444444444444,
              "#bd3786"
             ],
             [
              0.5555555555555556,
              "#d8576b"
             ],
             [
              0.6666666666666666,
              "#ed7953"
             ],
             [
              0.7777777777777778,
              "#fb9f3a"
             ],
             [
              0.8888888888888888,
              "#fdca26"
             ],
             [
              1,
              "#f0f921"
             ]
            ],
            "type": "surface"
           }
          ],
          "table": [
           {
            "cells": {
             "fill": {
              "color": "#EBF0F8"
             },
             "line": {
              "color": "white"
             }
            },
            "header": {
             "fill": {
              "color": "#C8D4E3"
             },
             "line": {
              "color": "white"
             }
            },
            "type": "table"
           }
          ]
         },
         "layout": {
          "annotationdefaults": {
           "arrowcolor": "#2a3f5f",
           "arrowhead": 0,
           "arrowwidth": 1
          },
          "coloraxis": {
           "colorbar": {
            "outlinewidth": 0,
            "ticks": ""
           }
          },
          "colorscale": {
           "diverging": [
            [
             0,
             "#8e0152"
            ],
            [
             0.1,
             "#c51b7d"
            ],
            [
             0.2,
             "#de77ae"
            ],
            [
             0.3,
             "#f1b6da"
            ],
            [
             0.4,
             "#fde0ef"
            ],
            [
             0.5,
             "#f7f7f7"
            ],
            [
             0.6,
             "#e6f5d0"
            ],
            [
             0.7,
             "#b8e186"
            ],
            [
             0.8,
             "#7fbc41"
            ],
            [
             0.9,
             "#4d9221"
            ],
            [
             1,
             "#276419"
            ]
           ],
           "sequential": [
            [
             0,
             "#0d0887"
            ],
            [
             0.1111111111111111,
             "#46039f"
            ],
            [
             0.2222222222222222,
             "#7201a8"
            ],
            [
             0.3333333333333333,
             "#9c179e"
            ],
            [
             0.4444444444444444,
             "#bd3786"
            ],
            [
             0.5555555555555556,
             "#d8576b"
            ],
            [
             0.6666666666666666,
             "#ed7953"
            ],
            [
             0.7777777777777778,
             "#fb9f3a"
            ],
            [
             0.8888888888888888,
             "#fdca26"
            ],
            [
             1,
             "#f0f921"
            ]
           ],
           "sequentialminus": [
            [
             0,
             "#0d0887"
            ],
            [
             0.1111111111111111,
             "#46039f"
            ],
            [
             0.2222222222222222,
             "#7201a8"
            ],
            [
             0.3333333333333333,
             "#9c179e"
            ],
            [
             0.4444444444444444,
             "#bd3786"
            ],
            [
             0.5555555555555556,
             "#d8576b"
            ],
            [
             0.6666666666666666,
             "#ed7953"
            ],
            [
             0.7777777777777778,
             "#fb9f3a"
            ],
            [
             0.8888888888888888,
             "#fdca26"
            ],
            [
             1,
             "#f0f921"
            ]
           ]
          },
          "colorway": [
           "#636efa",
           "#EF553B",
           "#00cc96",
           "#ab63fa",
           "#FFA15A",
           "#19d3f3",
           "#FF6692",
           "#B6E880",
           "#FF97FF",
           "#FECB52"
          ],
          "font": {
           "color": "#2a3f5f"
          },
          "geo": {
           "bgcolor": "white",
           "lakecolor": "white",
           "landcolor": "#E5ECF6",
           "showlakes": true,
           "showland": true,
           "subunitcolor": "white"
          },
          "hoverlabel": {
           "align": "left"
          },
          "hovermode": "closest",
          "mapbox": {
           "style": "light"
          },
          "paper_bgcolor": "white",
          "plot_bgcolor": "#E5ECF6",
          "polar": {
           "angularaxis": {
            "gridcolor": "white",
            "linecolor": "white",
            "ticks": ""
           },
           "bgcolor": "#E5ECF6",
           "radialaxis": {
            "gridcolor": "white",
            "linecolor": "white",
            "ticks": ""
           }
          },
          "scene": {
           "xaxis": {
            "backgroundcolor": "#E5ECF6",
            "gridcolor": "white",
            "gridwidth": 2,
            "linecolor": "white",
            "showbackground": true,
            "ticks": "",
            "zerolinecolor": "white"
           },
           "yaxis": {
            "backgroundcolor": "#E5ECF6",
            "gridcolor": "white",
            "gridwidth": 2,
            "linecolor": "white",
            "showbackground": true,
            "ticks": "",
            "zerolinecolor": "white"
           },
           "zaxis": {
            "backgroundcolor": "#E5ECF6",
            "gridcolor": "white",
            "gridwidth": 2,
            "linecolor": "white",
            "showbackground": true,
            "ticks": "",
            "zerolinecolor": "white"
           }
          },
          "shapedefaults": {
           "line": {
            "color": "#2a3f5f"
           }
          },
          "ternary": {
           "aaxis": {
            "gridcolor": "white",
            "linecolor": "white",
            "ticks": ""
           },
           "baxis": {
            "gridcolor": "white",
            "linecolor": "white",
            "ticks": ""
           },
           "bgcolor": "#E5ECF6",
           "caxis": {
            "gridcolor": "white",
            "linecolor": "white",
            "ticks": ""
           }
          },
          "title": {
           "x": 0.05
          },
          "xaxis": {
           "automargin": true,
           "gridcolor": "white",
           "linecolor": "white",
           "ticks": "",
           "title": {
            "standoff": 15
           },
           "zerolinecolor": "white",
           "zerolinewidth": 2
          },
          "yaxis": {
           "automargin": true,
           "gridcolor": "white",
           "linecolor": "white",
           "ticks": "",
           "title": {
            "standoff": 15
           },
           "zerolinecolor": "white",
           "zerolinewidth": 2
          }
         }
        },
        "title": {
         "text": "Ideal Buying and Selling of Stocks"
        },
        "width": 800,
        "xaxis": {
         "title": {
          "text": "Timeline"
         }
        },
        "yaxis": {
         "title": {
          "text": "Prices"
         }
        }
       }
      },
      "text/html": [
       "<div>\n",
       "        \n",
       "        \n",
       "            <div id=\"7172e35b-f682-4896-99a9-c076697773dd\" class=\"plotly-graph-div\" style=\"height:500px; width:800px;\"></div>\n",
       "            <script type=\"text/javascript\">\n",
       "                require([\"plotly\"], function(Plotly) {\n",
       "                    window.PLOTLYENV=window.PLOTLYENV || {};\n",
       "                    \n",
       "                if (document.getElementById(\"7172e35b-f682-4896-99a9-c076697773dd\")) {\n",
       "                    Plotly.newPlot(\n",
       "                        '7172e35b-f682-4896-99a9-c076697773dd',\n",
       "                        [{\"close\": [69.75, 62.56, 80.0, 69.81, 69.81, 60.31, 68.87, 57.38, 43.38, 61.06, 59.0, 54.69, 67.75, 69.18, 73.0, 66.19, 57.05, 51.17, 58.15, 64.21, 66.25, 63.71, 58.34, 60.31, 52.26, 50.91, 54.7, 47.98, 49.08, 43.74, 53.47, 57.68, 51.7, 47.46, 23.7, 24.21, 25.57, 24.61, 25.64, 26.41, 26.52, 27.8, 26.14, 25.71, 27.37, 27.65, 26.53, 24.93, 26.13, 26.23, 28.56, 28.49, 27.3, 27.65, 27.97, 26.81, 26.72, 26.28, 25.16, 24.17, 25.3, 25.8, 24.84, 25.61, 27.38, 25.73, 25.7, 27.68, 26.15, 28.15, 26.87, 27.21, 24.15, 22.65, 23.3, 24.06, 25.7, 27.35, 28.71, 29.36, 29.86, 30.86, 28.17, 27.87, 29.94, 30.6901, 29.47, 28.99, 28.73, 29.46, 36.81, 33.6, 35.6, 32.6, 27.1999, 28.38, 28.52, 28.32, 27.51, 25.72, 27.29, 26.69, 22.33, 20.22, 19.44, 17.1, 16.15, 18.37, 20.26, 20.89, 23.77, 23.52, 24.65, 25.72, 27.73, 29.41, 30.48, 28.18, 28.67, 29.2875, 30.535, 25.8, 23.01, 25.81, 23.465, 24.49, 26.665, 25.2575, 27.91, 27.725, 26.58, 25.39, 25.92, 25.01, 26.0, 27.4, 26.6, 24.89, 26.63, 25.58, 25.96, 29.53, 31.74, 32.255, 32.015, 29.19, 30.59, 29.47, 30.82, 29.76, 28.54, 26.615, 26.7097, 27.45, 27.8, 28.605, 33.1, 34.9, 34.545, 31.84, 33.4, 33.28, 35.405, 38.13, 37.41, 37.84, 38.31, 40.99, 40.4, 40.94, 41.7, 43.16, 45.43, 46.36, 46.95, 47.81, 46.45, 40.4, 43.85, 40.655, 48.64, 46.86, 44.15, 46.7, 43.52, 44.26, 52.64, 54.35, 55.48, 55.09, 50.88, 55.23, 49.87, 53.0, 51.17, 56.68, 57.46, 57.6, 59.92, 60.26, 62.14, 64.65, 63.98, 65.86, 68.46, 69.84, 68.93, 72.7, 74.77, 74.49, 83.18, 84.17, 85.54, 95.01, 93.77, 91.27, 93.52, 98.84, 98.61, 106.08, 112.33, 114.37, 106.81, 110.89, 101.57, 104.43, 112.03, 117.94, 130.6, 123.68, 133.96, 136.27, 137.86, 139.03, 143.37, 151.38, 157.7, 170.23, 162.01, 144.7], \"high\": [96.5, 74.0, 82.19, 82.87, 74.87, 72.06, 70.12, 72.37, 60.63, 64.75, 65.06, 61.13, 71.1, 72.15, 76.15, 73.15, 67.54, 59.08, 63.63, 68.34, 69.89, 70.62, 64.5, 65.0, 60.4, 56.44, 56.44, 54.93, 53.45, 51.1, 54.07, 58.64, 58.96, 57.32, 49.1, 26.8, 26.43, 26.5, 26.51, 27.81, 26.95, 30.0, 29.46, 26.75, 27.55, 28.83, 27.8, 26.72, 27.72, 26.6, 28.8, 29.89, 28.55, 27.79, 28.89, 30.2, 27.44, 27.1, 26.5, 25.79, 25.45, 26.09, 26.0, 26.48, 27.94, 27.39, 25.8, 28.25, 28.101, 28.38, 28.07, 28.22, 27.941, 25.0, 23.65, 24.6, 26.2501, 27.52, 28.8501, 30.0001, 30.26, 31.48, 30.94, 28.55, 30.74, 31.16, 30.9, 31.84, 30.1, 29.85, 37.0, 37.5, 36.72, 35.96, 33.25, 29.59, 32.1, 30.53, 29.57, 27.91, 28.5, 27.76, 27.47, 23.66, 21.25, 21.0, 19.93, 18.88, 21.2, 20.94, 24.34, 25.72, 25.49, 26.25, 29.35, 30.14, 31.5, 31.24, 29.03, 30.57, 31.58, 31.0606, 26.93, 26.41, 26.38, 25.53, 27.2, 27.49, 28.4, 29.46, 28.34, 26.78, 26.87, 26.25, 26.0, 28.145, 27.685, 27.5, 27.5, 27.2, 26.19, 29.95, 32.0, 32.95, 32.89, 32.335, 31.14, 31.05, 30.96, 31.61, 30.25, 30.2, 27.73, 28.23, 28.2, 28.66, 33.11, 35.28, 35.78, 36.4299, 35.2, 33.75, 36.29, 38.29, 38.98, 37.89, 38.46, 41.5, 41.66, 40.97, 42.29, 45.71, 45.47, 47.57, 46.97, 50.045, 49.06, 47.91, 44.3, 44.19, 49.54, 48.905, 47.77, 47.4, 48.41, 45.0, 54.37, 54.98, 56.85, 55.39, 55.09, 55.64, 56.77, 53.0, 52.95, 57.29, 58.7, 58.19, 61.3699, 61.41, 64.1, 65.91, 65.24, 66.19, 69.14, 70.74, 72.89, 74.42, 74.96, 75.97, 86.2, 85.06, 87.4999, 95.45, 96.07, 97.24, 97.9, 99.99, 102.69, 111.15, 112.777, 115.29, 116.18, 112.24, 113.42, 107.9, 113.24, 120.82, 131.37, 130.65, 138.4, 141.675, 140.9383, 142.37, 145.67, 152.5, 159.55, 174.05, 190.7, 175.0], \"low\": [65.0, 60.38, 63.81, 67.25, 68.12, 58.63, 48.44, 57.0, 40.31, 42.88, 53.88, 49.75, 51.06, 67.25, 66.01, 64.2, 56.3, 47.5, 50.41, 59.6, 63.8, 61.33, 57.15, 58.31, 51.44, 48.35, 49.17, 41.41, 43.8, 43.11, 43.19, 51.9, 51.26, 47.03, 23.3, 22.55, 23.95, 23.89, 23.6, 25.39, 25.43, 26.47, 25.91, 24.84, 25.5, 27.26, 26.35, 24.01, 24.85, 25.42, 25.86, 27.25, 25.95, 26.74, 27.42, 24.86, 26.679000000000002, 25.64, 25.1296, 23.82, 23.94, 24.31, 24.82, 24.5, 25.76, 25.12, 24.25, 25.61, 26.1, 26.1, 26.34, 26.62, 24.0, 22.45, 21.4599, 22.23, 23.85, 25.39, 27.15, 28.58, 28.8, 29.4, 27.79, 26.6, 27.56, 29.9, 29.04, 28.95, 27.51, 28.27, 29.29, 32.68, 32.63, 31.04, 27.02, 26.87, 27.93, 27.95, 27.11, 24.87, 25.07, 23.5, 20.65, 17.5, 18.47, 16.75, 16.1, 14.87, 18.18, 19.01, 20.86, 22.0, 23.03, 23.76, 24.43, 27.41, 29.25, 27.66, 27.57, 28.24, 28.62, 24.56, 22.95, 22.73, 23.32, 23.54, 23.78, 24.93, 25.56, 27.42, 26.43, 24.68, 24.72, 24.03, 23.65, 25.84, 23.79, 24.6, 24.26, 24.3, 25.16, 26.39, 29.71, 31.49, 30.23, 28.64, 28.32, 28.54, 28.97, 29.74, 27.76, 26.3449, 26.26, 26.28, 27.1, 27.52, 28.11, 32.32, 32.57, 31.02, 30.84, 30.95, 32.8, 35.39, 35.53, 34.63, 35.69, 37.495, 38.9, 38.51, 39.86, 41.05, 42.21, 44.53, 42.1, 46.73, 44.9, 40.35, 40.23, 40.54, 40.12, 46.02, 43.94, 43.32, 39.72, 41.66, 43.75, 52.53, 53.68, 49.1, 48.19, 50.58, 49.35, 49.46, 48.035, 50.39, 56.14, 55.61, 56.315, 57.28, 58.8, 61.95, 62.75, 63.62, 64.85, 67.14, 68.09, 68.02, 71.28, 72.92, 73.71, 82.24, 80.7, 85.5, 83.83, 87.08, 87.51, 92.45, 97.26, 98.0, 104.84, 107.23, 100.11, 99.3528, 93.96, 97.2, 102.35, 108.8, 118.1, 123.04, 119.01, 134.67, 130.78, 134.51, 133.22, 142.965, 146.65, 156.51, 152.0, 132.52], \"open\": [94.44, 72.87, 64.37, 79.69, 69.94, 70.0, 60.5, 68.5, 58.06, 44.13, 60.81, 58.56, 54.81, 67.66, 69.6, 72.05, 66.8, 57.19, 50.94, 60.08, 63.83, 66.65, 64.15, 59.05, 59.83, 52.16, 50.99, 54.12, 47.58, 48.52, 44.32, 52.43, 58.65, 52.3, 47.93, 24.02, 24.46, 25.54, 24.98, 25.59, 26.33, 26.7, 28.03, 26.35, 25.9, 27.58, 27.63, 26.65, 24.95, 26.21, 26.12, 28.69, 28.27, 27.24, 27.81, 28.15, 26.95, 26.8, 26.25, 25.2, 24.24, 25.23, 25.73, 24.85, 25.82, 27.38, 25.71, 25.61, 27.73, 26.25, 27.95, 26.99, 27.67, 24.33, 22.74, 23.53, 24.02, 25.89, 27.32, 28.78, 29.23, 29.91, 30.84, 27.82, 27.89, 29.94, 30.79, 29.67, 28.97, 28.5, 29.46, 36.53, 33.5, 35.79, 31.06, 27.24, 28.83, 28.48, 28.24, 27.22, 25.95, 27.665, 26.38, 22.48, 19.875, 19.5328, 17.01, 16.035, 18.23, 20.19, 21.0, 24.05, 23.82, 24.35, 25.405, 27.7, 29.52, 30.62, 28.39, 28.77, 29.35, 30.67, 25.53, 23.09, 25.99, 23.67, 24.49, 26.88, 25.57, 28.05, 27.8, 26.6, 25.53, 25.94, 24.99, 25.93, 27.51, 26.46, 24.72, 26.19, 25.56, 26.55, 29.79, 31.93, 32.22, 32.05, 28.76, 30.62, 29.59, 30.45, 29.81, 28.84, 26.78, 27.25, 27.67, 27.72, 28.64, 32.93, 34.92, 34.75, 32.06, 31.75, 33.35, 35.67, 38.09, 37.35, 37.74, 37.92, 41.15, 40.2401, 40.95, 41.86, 43.21, 45.43, 46.27, 46.89, 47.88, 46.66, 40.59, 43.67, 40.6, 48.58, 47.06, 44.46, 46.98, 42.23, 44.75, 52.85, 54.41, 54.32, 54.88, 50.97, 55.05, 50.0, 52.44, 51.13, 56.6, 57.01, 57.405, 59.97, 60.11, 62.79, 64.355, 64.13, 65.81, 68.68, 70.24, 69.33, 73.1, 74.71, 74.71, 83.68, 83.6, 86.125, 94.79, 93.99, 90.47, 93.21, 99.2798, 98.1, 106.03, 110.85, 114.75, 107.05, 113.0, 99.55, 103.775, 112.89, 118.95, 130.53, 123.85, 136.63, 137.0, 136.61, 139.66, 144.26, 151.81, 158.78, 170.43, 165.31], \"type\": \"candlestick\", \"x\": [\"Apr-2000\", \"May-2000\", \"Jun-2000\", \"Jul-2000\", \"Aug-2000\", \"Sep-2000\", \"Oct-2000\", \"Nov-2000\", \"Dec-2000\", \"Jan-2001\", \"Feb-2001\", \"Mar-2001\", \"Apr-2001\", \"May-2001\", \"Jun-2001\", \"Jul-2001\", \"Aug-2001\", \"Sep-2001\", \"Oct-2001\", \"Nov-2001\", \"Dec-2001\", \"Jan-2002\", \"Feb-2002\", \"Mar-2002\", \"Apr-2002\", \"May-2002\", \"Jun-2002\", \"Jul-2002\", \"Aug-2002\", \"Sep-2002\", \"Oct-2002\", \"Nov-2002\", \"Dec-2002\", \"Jan-2003\", \"Feb-2003\", \"Mar-2003\", \"Apr-2003\", \"May-2003\", \"Jun-2003\", \"Jul-2003\", \"Aug-2003\", \"Sep-2003\", \"Oct-2003\", \"Nov-2003\", \"Dec-2003\", \"Jan-2004\", \"Feb-2004\", \"Mar-2004\", \"Apr-2004\", \"May-2004\", \"Jun-2004\", \"Jul-2004\", \"Aug-2004\", \"Sep-2004\", \"Oct-2004\", \"Nov-2004\", \"Dec-2004\", \"Jan-2005\", \"Feb-2005\", \"Mar-2005\", \"Apr-2005\", \"May-2005\", \"Jun-2005\", \"Jul-2005\", \"Aug-2005\", \"Sep-2005\", \"Oct-2005\", \"Nov-2005\", \"Dec-2005\", \"Jan-2006\", \"Feb-2006\", \"Mar-2006\", \"Apr-2006\", \"May-2006\", \"Jun-2006\", \"Jul-2006\", \"Aug-2006\", \"Sep-2006\", \"Oct-2006\", \"Nov-2006\", \"Dec-2006\", \"Jan-2007\", \"Feb-2007\", \"Mar-2007\", \"Apr-2007\", \"May-2007\", \"Jun-2007\", \"Jul-2007\", \"Aug-2007\", \"Sep-2007\", \"Oct-2007\", \"Nov-2007\", \"Dec-2007\", \"Jan-2008\", \"Feb-2008\", \"Mar-2008\", \"Apr-2008\", \"May-2008\", \"Jun-2008\", \"Jul-2008\", \"Aug-2008\", \"Sep-2008\", \"Oct-2008\", \"Nov-2008\", \"Dec-2008\", \"Jan-2009\", \"Feb-2009\", \"Mar-2009\", \"Apr-2009\", \"May-2009\", \"Jun-2009\", \"Jul-2009\", \"Aug-2009\", \"Sep-2009\", \"Oct-2009\", \"Nov-2009\", \"Dec-2009\", \"Jan-2010\", \"Feb-2010\", \"Mar-2010\", \"Apr-2010\", \"May-2010\", \"Jun-2010\", \"Jul-2010\", \"Aug-2010\", \"Sep-2010\", \"Oct-2010\", \"Nov-2010\", \"Dec-2010\", \"Jan-2011\", \"Feb-2011\", \"Mar-2011\", \"Apr-2011\", \"May-2011\", \"Jun-2011\", \"Jul-2011\", \"Aug-2011\", \"Sep-2011\", \"Oct-2011\", \"Nov-2011\", \"Dec-2011\", \"Jan-2012\", \"Feb-2012\", \"Mar-2012\", \"Apr-2012\", \"May-2012\", \"Jun-2012\", \"Jul-2012\", \"Aug-2012\", \"Sep-2012\", \"Oct-2012\", \"Nov-2012\", \"Dec-2012\", \"Jan-2013\", \"Feb-2013\", \"Mar-2013\", \"Apr-2013\", \"May-2013\", \"Jun-2013\", \"Jul-2013\", \"Aug-2013\", \"Sep-2013\", \"Oct-2013\", \"Nov-2013\", \"Dec-2013\", \"Jan-2014\", \"Feb-2014\", \"Mar-2014\", \"Apr-2014\", \"May-2014\", \"Jun-2014\", \"Jul-2014\", \"Aug-2014\", \"Sep-2014\", \"Oct-2014\", \"Nov-2014\", \"Dec-2014\", \"Jan-2015\", \"Feb-2015\", \"Mar-2015\", \"Apr-2015\", \"May-2015\", \"Jun-2015\", \"Jul-2015\", \"Aug-2015\", \"Sep-2015\", \"Oct-2015\", \"Nov-2015\", \"Dec-2015\", \"Jan-2016\", \"Feb-2016\", \"Mar-2016\", \"Apr-2016\", \"May-2016\", \"Jun-2016\", \"Jul-2016\", \"Aug-2016\", \"Sep-2016\", \"Oct-2016\", \"Nov-2016\", \"Dec-2016\", \"Jan-2017\", \"Feb-2017\", \"Mar-2017\", \"Apr-2017\", \"May-2017\", \"Jun-2017\", \"Jul-2017\", \"Aug-2017\", \"Sep-2017\", \"Oct-2017\", \"Nov-2017\", \"Dec-2017\", \"Jan-2018\", \"Feb-2018\", \"Mar-2018\", \"Apr-2018\", \"May-2018\", \"Jun-2018\", \"Jul-2018\", \"Aug-2018\", \"Sep-2018\", \"Oct-2018\", \"Nov-2018\", \"Dec-2018\", \"Jan-2019\", \"Feb-2019\", \"Mar-2019\", \"Apr-2019\", \"May-2019\", \"Jun-2019\", \"Jul-2019\", \"Aug-2019\", \"Sep-2019\", \"Oct-2019\", \"Nov-2019\", \"Dec-2019\", \"Jan-2020\", \"Feb-2020\", \"Mar-2020\"]}],\n",
       "                        {\"autosize\": false, \"height\": 500, \"showlegend\": true, \"template\": {\"data\": {\"bar\": [{\"error_x\": {\"color\": \"#2a3f5f\"}, \"error_y\": {\"color\": \"#2a3f5f\"}, \"marker\": {\"line\": {\"color\": \"#E5ECF6\", \"width\": 0.5}}, \"type\": \"bar\"}], \"barpolar\": [{\"marker\": {\"line\": {\"color\": \"#E5ECF6\", \"width\": 0.5}}, \"type\": \"barpolar\"}], \"carpet\": [{\"aaxis\": {\"endlinecolor\": \"#2a3f5f\", \"gridcolor\": \"white\", \"linecolor\": \"white\", \"minorgridcolor\": \"white\", \"startlinecolor\": \"#2a3f5f\"}, \"baxis\": {\"endlinecolor\": \"#2a3f5f\", \"gridcolor\": \"white\", \"linecolor\": \"white\", \"minorgridcolor\": \"white\", \"startlinecolor\": \"#2a3f5f\"}, \"type\": \"carpet\"}], \"choropleth\": [{\"colorbar\": {\"outlinewidth\": 0, \"ticks\": \"\"}, \"type\": \"choropleth\"}], \"contour\": [{\"colorbar\": {\"outlinewidth\": 0, \"ticks\": \"\"}, \"colorscale\": [[0.0, \"#0d0887\"], [0.1111111111111111, \"#46039f\"], [0.2222222222222222, \"#7201a8\"], [0.3333333333333333, \"#9c179e\"], [0.4444444444444444, \"#bd3786\"], [0.5555555555555556, \"#d8576b\"], [0.6666666666666666, \"#ed7953\"], [0.7777777777777778, \"#fb9f3a\"], [0.8888888888888888, \"#fdca26\"], [1.0, \"#f0f921\"]], \"type\": \"contour\"}], \"contourcarpet\": [{\"colorbar\": {\"outlinewidth\": 0, \"ticks\": \"\"}, \"type\": \"contourcarpet\"}], \"heatmap\": [{\"colorbar\": {\"outlinewidth\": 0, \"ticks\": \"\"}, \"colorscale\": [[0.0, \"#0d0887\"], [0.1111111111111111, \"#46039f\"], [0.2222222222222222, \"#7201a8\"], [0.3333333333333333, \"#9c179e\"], [0.4444444444444444, \"#bd3786\"], [0.5555555555555556, \"#d8576b\"], [0.6666666666666666, \"#ed7953\"], [0.7777777777777778, \"#fb9f3a\"], [0.8888888888888888, \"#fdca26\"], [1.0, \"#f0f921\"]], \"type\": \"heatmap\"}], \"heatmapgl\": [{\"colorbar\": {\"outlinewidth\": 0, \"ticks\": \"\"}, \"colorscale\": [[0.0, \"#0d0887\"], [0.1111111111111111, \"#46039f\"], [0.2222222222222222, \"#7201a8\"], [0.3333333333333333, \"#9c179e\"], [0.4444444444444444, \"#bd3786\"], [0.5555555555555556, \"#d8576b\"], [0.6666666666666666, \"#ed7953\"], [0.7777777777777778, \"#fb9f3a\"], [0.8888888888888888, \"#fdca26\"], [1.0, \"#f0f921\"]], \"type\": \"heatmapgl\"}], \"histogram\": [{\"marker\": {\"colorbar\": {\"outlinewidth\": 0, \"ticks\": \"\"}}, \"type\": \"histogram\"}], \"histogram2d\": [{\"colorbar\": {\"outlinewidth\": 0, \"ticks\": \"\"}, \"colorscale\": [[0.0, \"#0d0887\"], [0.1111111111111111, \"#46039f\"], [0.2222222222222222, \"#7201a8\"], [0.3333333333333333, \"#9c179e\"], [0.4444444444444444, \"#bd3786\"], [0.5555555555555556, \"#d8576b\"], [0.6666666666666666, \"#ed7953\"], [0.7777777777777778, \"#fb9f3a\"], [0.8888888888888888, \"#fdca26\"], [1.0, \"#f0f921\"]], \"type\": \"histogram2d\"}], \"histogram2dcontour\": [{\"colorbar\": {\"outlinewidth\": 0, \"ticks\": \"\"}, \"colorscale\": [[0.0, \"#0d0887\"], [0.1111111111111111, \"#46039f\"], [0.2222222222222222, \"#7201a8\"], [0.3333333333333333, \"#9c179e\"], [0.4444444444444444, \"#bd3786\"], [0.5555555555555556, \"#d8576b\"], [0.6666666666666666, \"#ed7953\"], [0.7777777777777778, \"#fb9f3a\"], [0.8888888888888888, \"#fdca26\"], [1.0, \"#f0f921\"]], \"type\": \"histogram2dcontour\"}], \"mesh3d\": [{\"colorbar\": {\"outlinewidth\": 0, \"ticks\": \"\"}, \"type\": \"mesh3d\"}], \"parcoords\": [{\"line\": {\"colorbar\": {\"outlinewidth\": 0, \"ticks\": \"\"}}, \"type\": \"parcoords\"}], \"pie\": [{\"automargin\": true, \"type\": \"pie\"}], \"scatter\": [{\"marker\": {\"colorbar\": {\"outlinewidth\": 0, \"ticks\": \"\"}}, \"type\": \"scatter\"}], \"scatter3d\": [{\"line\": {\"colorbar\": {\"outlinewidth\": 0, \"ticks\": \"\"}}, \"marker\": {\"colorbar\": {\"outlinewidth\": 0, \"ticks\": \"\"}}, \"type\": \"scatter3d\"}], \"scattercarpet\": [{\"marker\": {\"colorbar\": {\"outlinewidth\": 0, \"ticks\": \"\"}}, \"type\": \"scattercarpet\"}], \"scattergeo\": [{\"marker\": {\"colorbar\": {\"outlinewidth\": 0, \"ticks\": \"\"}}, \"type\": \"scattergeo\"}], \"scattergl\": [{\"marker\": {\"colorbar\": {\"outlinewidth\": 0, \"ticks\": \"\"}}, \"type\": \"scattergl\"}], \"scattermapbox\": [{\"marker\": {\"colorbar\": {\"outlinewidth\": 0, \"ticks\": \"\"}}, \"type\": \"scattermapbox\"}], \"scatterpolar\": [{\"marker\": {\"colorbar\": {\"outlinewidth\": 0, \"ticks\": \"\"}}, \"type\": \"scatterpolar\"}], \"scatterpolargl\": [{\"marker\": {\"colorbar\": {\"outlinewidth\": 0, \"ticks\": \"\"}}, \"type\": \"scatterpolargl\"}], \"scatterternary\": [{\"marker\": {\"colorbar\": {\"outlinewidth\": 0, \"ticks\": \"\"}}, \"type\": \"scatterternary\"}], \"surface\": [{\"colorbar\": {\"outlinewidth\": 0, \"ticks\": \"\"}, \"colorscale\": [[0.0, \"#0d0887\"], [0.1111111111111111, \"#46039f\"], [0.2222222222222222, \"#7201a8\"], [0.3333333333333333, \"#9c179e\"], [0.4444444444444444, \"#bd3786\"], [0.5555555555555556, \"#d8576b\"], [0.6666666666666666, \"#ed7953\"], [0.7777777777777778, \"#fb9f3a\"], [0.8888888888888888, \"#fdca26\"], [1.0, \"#f0f921\"]], \"type\": \"surface\"}], \"table\": [{\"cells\": {\"fill\": {\"color\": \"#EBF0F8\"}, \"line\": {\"color\": \"white\"}}, \"header\": {\"fill\": {\"color\": \"#C8D4E3\"}, \"line\": {\"color\": \"white\"}}, \"type\": \"table\"}]}, \"layout\": {\"annotationdefaults\": {\"arrowcolor\": \"#2a3f5f\", \"arrowhead\": 0, \"arrowwidth\": 1}, \"coloraxis\": {\"colorbar\": {\"outlinewidth\": 0, \"ticks\": \"\"}}, \"colorscale\": {\"diverging\": [[0, \"#8e0152\"], [0.1, \"#c51b7d\"], [0.2, \"#de77ae\"], [0.3, \"#f1b6da\"], [0.4, \"#fde0ef\"], [0.5, \"#f7f7f7\"], [0.6, \"#e6f5d0\"], [0.7, \"#b8e186\"], [0.8, \"#7fbc41\"], [0.9, \"#4d9221\"], [1, \"#276419\"]], \"sequential\": [[0.0, \"#0d0887\"], [0.1111111111111111, \"#46039f\"], [0.2222222222222222, \"#7201a8\"], [0.3333333333333333, \"#9c179e\"], [0.4444444444444444, \"#bd3786\"], [0.5555555555555556, \"#d8576b\"], [0.6666666666666666, \"#ed7953\"], [0.7777777777777778, \"#fb9f3a\"], [0.8888888888888888, \"#fdca26\"], [1.0, \"#f0f921\"]], \"sequentialminus\": [[0.0, \"#0d0887\"], [0.1111111111111111, \"#46039f\"], [0.2222222222222222, \"#7201a8\"], [0.3333333333333333, \"#9c179e\"], [0.4444444444444444, \"#bd3786\"], [0.5555555555555556, \"#d8576b\"], [0.6666666666666666, \"#ed7953\"], [0.7777777777777778, \"#fb9f3a\"], [0.8888888888888888, \"#fdca26\"], [1.0, \"#f0f921\"]]}, \"colorway\": [\"#636efa\", \"#EF553B\", \"#00cc96\", \"#ab63fa\", \"#FFA15A\", \"#19d3f3\", \"#FF6692\", \"#B6E880\", \"#FF97FF\", \"#FECB52\"], \"font\": {\"color\": \"#2a3f5f\"}, \"geo\": {\"bgcolor\": \"white\", \"lakecolor\": \"white\", \"landcolor\": \"#E5ECF6\", \"showlakes\": true, \"showland\": true, \"subunitcolor\": \"white\"}, \"hoverlabel\": {\"align\": \"left\"}, \"hovermode\": \"closest\", \"mapbox\": {\"style\": \"light\"}, \"paper_bgcolor\": \"white\", \"plot_bgcolor\": \"#E5ECF6\", \"polar\": {\"angularaxis\": {\"gridcolor\": \"white\", \"linecolor\": \"white\", \"ticks\": \"\"}, \"bgcolor\": \"#E5ECF6\", \"radialaxis\": {\"gridcolor\": \"white\", \"linecolor\": \"white\", \"ticks\": \"\"}}, \"scene\": {\"xaxis\": {\"backgroundcolor\": \"#E5ECF6\", \"gridcolor\": \"white\", \"gridwidth\": 2, \"linecolor\": \"white\", \"showbackground\": true, \"ticks\": \"\", \"zerolinecolor\": \"white\"}, \"yaxis\": {\"backgroundcolor\": \"#E5ECF6\", \"gridcolor\": \"white\", \"gridwidth\": 2, \"linecolor\": \"white\", \"showbackground\": true, \"ticks\": \"\", \"zerolinecolor\": \"white\"}, \"zaxis\": {\"backgroundcolor\": \"#E5ECF6\", \"gridcolor\": \"white\", \"gridwidth\": 2, \"linecolor\": \"white\", \"showbackground\": true, \"ticks\": \"\", \"zerolinecolor\": \"white\"}}, \"shapedefaults\": {\"line\": {\"color\": \"#2a3f5f\"}}, \"ternary\": {\"aaxis\": {\"gridcolor\": \"white\", \"linecolor\": \"white\", \"ticks\": \"\"}, \"baxis\": {\"gridcolor\": \"white\", \"linecolor\": \"white\", \"ticks\": \"\"}, \"bgcolor\": \"#E5ECF6\", \"caxis\": {\"gridcolor\": \"white\", \"linecolor\": \"white\", \"ticks\": \"\"}}, \"title\": {\"x\": 0.05}, \"xaxis\": {\"automargin\": true, \"gridcolor\": \"white\", \"linecolor\": \"white\", \"ticks\": \"\", \"title\": {\"standoff\": 15}, \"zerolinecolor\": \"white\", \"zerolinewidth\": 2}, \"yaxis\": {\"automargin\": true, \"gridcolor\": \"white\", \"linecolor\": \"white\", \"ticks\": \"\", \"title\": {\"standoff\": 15}, \"zerolinecolor\": \"white\", \"zerolinewidth\": 2}}}, \"title\": {\"text\": \"Ideal Buying and Selling of Stocks\"}, \"width\": 800, \"xaxis\": {\"title\": {\"text\": \"Timeline\"}}, \"yaxis\": {\"title\": {\"text\": \"Prices\"}}},\n",
       "                        {\"responsive\": true}\n",
       "                    ).then(function(){\n",
       "                            \n",
       "var gd = document.getElementById('7172e35b-f682-4896-99a9-c076697773dd');\n",
       "var x = new MutationObserver(function (mutations, observer) {{\n",
       "        var display = window.getComputedStyle(gd).display;\n",
       "        if (!display || display === 'none') {{\n",
       "            console.log([gd, 'removed!']);\n",
       "            Plotly.purge(gd);\n",
       "            observer.disconnect();\n",
       "        }}\n",
       "}});\n",
       "\n",
       "// Listen for the removal of the full notebook cells\n",
       "var notebookContainer = gd.closest('#notebook-container');\n",
       "if (notebookContainer) {{\n",
       "    x.observe(notebookContainer, {childList: true});\n",
       "}}\n",
       "\n",
       "// Listen for the clearing of the current output cell\n",
       "var outputEl = gd.closest('.output');\n",
       "if (outputEl) {{\n",
       "    x.observe(outputEl, {childList: true});\n",
       "}}\n",
       "\n",
       "                        })\n",
       "                };\n",
       "                });\n",
       "            </script>\n",
       "        </div>"
      ]
     },
     "metadata": {},
     "output_type": "display_data"
    }
   ],
   "source": [
    "init_notebook_mode(connected=True) # using plotly offline\n",
    "\n",
    "fig = go.Figure(data=[go.Candlestick(x=stock_data['date'],\n",
    "                open=stock_data['open'],\n",
    "                high=stock_data['high'],\n",
    "                low=stock_data['low'],\n",
    "                close=stock_data['close'])])\n",
    "\n",
    "fig.update_layout(\n",
    "    autosize=False,\n",
    "    width=800,\n",
    "    height=500,\n",
    "    title='Ideal Buying and Selling of Stocks',\n",
    "    yaxis=dict(title='Prices'),\n",
    "    xaxis=dict(title='Timeline'),\n",
    "    showlegend=True\n",
    ")\n",
    "#fig.write_html(\"candlestick.html\")\n",
    "#py.offline.plot(fig, filename = 'candlestick.html', auto_open=False)\n",
    "fig.show()"
   ]
  },
  {
   "cell_type": "markdown",
   "metadata": {},
   "source": [
    ">_If we zoom into Mar-2020, we will notice that the month ended negatively as 'close' is less than 'open' (which is why it is marked red). On the other hand if we look at Jan-2020, 'close' is greater than 'open'(which is why it is marked in green)._"
   ]
  },
  {
   "cell_type": "markdown",
   "metadata": {},
   "source": [
    "***"
   ]
  }
 ],
 "metadata": {
  "kernelspec": {
   "display_name": "Python 3",
   "language": "python",
   "name": "python3"
  },
  "language_info": {
   "codemirror_mode": {
    "name": "ipython",
    "version": 3
   },
   "file_extension": ".py",
   "mimetype": "text/x-python",
   "name": "python",
   "nbconvert_exporter": "python",
   "pygments_lexer": "ipython3",
   "version": "3.7.4"
  }
 },
 "nbformat": 4,
 "nbformat_minor": 2
}
